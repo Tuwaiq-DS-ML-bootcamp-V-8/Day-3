{
 "cells": [
  {
   "cell_type": "markdown",
   "metadata": {},
   "source": [
    "# Python_Lab_1.1\n"
   ]
  },
  {
   "cell_type": "markdown",
   "metadata": {},
   "source": [
    "### Task 1\n",
    "1. Print a welcome message.\n",
    "2. Create variables to store the following details:\n",
    "    - Your name (string)\n",
    "    - Your age (integer)\n",
    "    - Your height (float)\n",
    "    - Whether you are a student (boolean)\n",
    "3. Print these details.\n"
   ]
  },
  {
   "cell_type": "code",
   "execution_count": 123,
   "metadata": {},
   "outputs": [
    {
     "name": "stdout",
     "output_type": "stream",
     "text": [
      "Your Abdulrahman\n",
      "Your Age:22\n",
      "Your Hight174.5\n",
      "Are you student? True\n"
     ]
    }
   ],
   "source": [
    "# write your code here ^_^\n",
    "name = \"Abdulrahman\"\n",
    "age = 22\n",
    "hight = 174.5\n",
    "student= True\n",
    "print(f\"Your {name}\")   \n",
    "print(f\"Your Age:{age}\")   \n",
    "print(f\"Your Hight{hight}\")   \n",
    "print(f\"Are you student? {student}\")"
   ]
  },
  {
   "cell_type": "markdown",
   "metadata": {},
   "source": [
    "### Task 2\n",
    " 1. Create a list of 5 favorite fruits.\n",
    " 2. Create a list with the price of each fruit.\n",
    " 3. Print the data types of these lists."
   ]
  },
  {
   "cell_type": "code",
   "execution_count": 119,
   "metadata": {},
   "outputs": [
    {
     "name": "stdout",
     "output_type": "stream",
     "text": [
      "[<class 'str'>, <class 'str'>, <class 'str'>, <class 'str'>, <class 'str'>]\n",
      "[<class 'int'>, <class 'int'>, <class 'int'>, <class 'int'>, <class 'int'>]\n"
     ]
    }
   ],
   "source": [
    "# write your code here ^_^\n",
    "fruits_ls = [\"lemon\",\"apple\",\"orange\",\"dragon fruit\",\"pineapple\"]\n",
    "price_ls = [2,5,3,1,9]\n",
    "datatype_fruits = [type(fr) for fr in fruits_ls]\n",
    "print(datatype_fruits)\n",
    "datatype_price = [type(pr) for pr in price_ls]\n",
    "print(datatype_price)"
   ]
  },
  {
   "cell_type": "markdown",
   "metadata": {},
   "source": [
    "### Task 3\n",
    "1. Print the names of all fruits using a loop.\n",
    "2. Using a while loop and input built-in function, do the following:\n",
    "    - Ask the the user : \"what is the product of 7 * 24 ?\"\n",
    "    - check if the answer is right then exit the loop and print \"You answered this Question correctly\".\n",
    "    - if the answer is wrong, then print \"Your Answer is wrong try again..\" and show the user the question again.\n",
    "3. Build a program that takes one defined variable of type int, then it prints out the result formatted like the following pattern (if we give it 5 for example):\n",
    "\n",
    "    5 4 3 2 1\n",
    "\n",
    "    4 3 2 1\n",
    "\n",
    "    3 2 1\n",
    "\n",
    "    2 1\n",
    "    \n",
    "    1"
   ]
  },
  {
   "cell_type": "code",
   "execution_count": 22,
   "metadata": {},
   "outputs": [
    {
     "name": "stdout",
     "output_type": "stream",
     "text": [
      "['lemon', 'apple', 'orange', 'dragon fruit', 'pineapple']\n"
     ]
    }
   ],
   "source": [
    "# write your code here ^_^\n",
    "# Q1\n",
    "fruits_loop = [a for a in fruits_ls]\n",
    "print(fruits_ls)"
   ]
  },
  {
   "cell_type": "code",
   "execution_count": 71,
   "metadata": {},
   "outputs": [
    {
     "name": "stdin",
     "output_type": "stream",
     "text": [
      "What is the product of 7 * 24?  20\n"
     ]
    },
    {
     "name": "stdout",
     "output_type": "stream",
     "text": [
      "Incorrect! Please try again\n"
     ]
    },
    {
     "name": "stdin",
     "output_type": "stream",
     "text": [
      "What is the product of 7 * 24?  168\n"
     ]
    },
    {
     "name": "stdout",
     "output_type": "stream",
     "text": [
      "Correct :)\n"
     ]
    }
   ],
   "source": [
    "#Q2\n",
    "\n",
    "def check_ans():\n",
    "    while True:\n",
    "        user_input = input(\"What is the product of 7 * 24? \")\n",
    "        \n",
    "        user_input = int(user_input)\n",
    "        if user_input == 168:\n",
    "           print(\"Correct :)\")\n",
    "           break\n",
    "        else:\n",
    "            print(\"Incorrect! Please try again\")\n",
    "\n",
    "check_ans()"
   ]
  },
  {
   "cell_type": "code",
   "execution_count": 127,
   "metadata": {},
   "outputs": [
    {
     "name": "stdout",
     "output_type": "stream",
     "text": [
      "\n",
      " 5 4 3 2 1\n",
      "\n",
      " 4 3 2 1\n",
      "\n",
      " 3 2 1\n",
      "\n",
      " 2 1\n",
      "\n",
      " 1\n"
     ]
    }
   ],
   "source": [
    "#Q3\n",
    "n = 5\n",
    "for a in range(n,0,-1):\n",
    "    repate = ' '.join(str(b)for b in range(a,0,-1))\n",
    "    print(\"\\n\",repate)                "
   ]
  },
  {
   "cell_type": "markdown",
   "metadata": {},
   "source": [
    "### Task 4\n",
    "You want to recommend a movie to a friend based on the rating and popularity. To accomplish this do the following:\n",
    "\n",
    "- Create a variable for the movie (choose any movie you like).\n",
    "- Create a variable of type int to hold the rating of the movie out of 5. Give this movie rate = 3\n",
    "- Create a popularity score of type float, let it be 72.65\n",
    "- Using an if statement:\n",
    "    - Check if the movie rating is 4 or greater and the popularity is greater than 80, print \"Highly recommended\".\n",
    "    - Else if the movie rating is 3 or greater and the popularity is greater than 70, print \"I recommended it, It is good\".\n",
    "    - Else if the movie rating is 2 or less and the popularity is greater than 60, print \"You should check it out!\".\n",
    "    - Else the movie rating is 2 or less and the popularity is less than 50, print \"Don't watch it, It is a waste of time\"."
   ]
  },
  {
   "cell_type": "code",
   "execution_count": 115,
   "metadata": {},
   "outputs": [
    {
     "name": "stdout",
     "output_type": "stream",
     "text": [
      "Movie Name: The Accountant\n",
      "Movie Rating: 3/5\n",
      "Movie Popularity Score: 72.65\n",
      "I recommended it, It is good\n"
     ]
    }
   ],
   "source": [
    "# write your code here ^_^\n",
    "movie = \"The Accountant\"\n",
    "rating = 3\n",
    "popl_score = 72.65\n",
    "if rating >= 4 and popl_score > 80:\n",
    "    recommended = \"Highly recommended\"\n",
    "elif rating >= 3 and popl_score > 70:\n",
    "    recommended = \"I recommended it, It is good\"\n",
    "elif rating >= 2 and popl_score > 60:\n",
    "    recommended = \"You should check it out!\"\n",
    "else:\n",
    "    recommended = \"Don't watch it, It is a waste of time\"\n",
    "\n",
    "print(f\"Movie Name: {movie}\")\n",
    "print(f\"Movie Rating: {rating}/5\")\n",
    "print(f\"Movie Popularity Score: {popl_score}\")\n",
    "print(recommended)"
   ]
  },
  {
   "cell_type": "code",
   "execution_count": null,
   "metadata": {},
   "outputs": [],
   "source": []
  }
 ],
 "metadata": {
  "kernelspec": {
   "display_name": "Python 3 (ipykernel)",
   "language": "python",
   "name": "python3"
  },
  "language_info": {
   "codemirror_mode": {
    "name": "ipython",
    "version": 3
   },
   "file_extension": ".py",
   "mimetype": "text/x-python",
   "name": "python",
   "nbconvert_exporter": "python",
   "pygments_lexer": "ipython3",
   "version": "3.12.4"
  }
 },
 "nbformat": 4,
 "nbformat_minor": 4
}
