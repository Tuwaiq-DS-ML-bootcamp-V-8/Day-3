{
 "cells": [
  {
   "cell_type": "markdown",
   "metadata": {},
   "source": [
    "# Python_Lab_1.1\n"
   ]
  },
  {
   "cell_type": "markdown",
   "metadata": {},
   "source": [
    "### Task 1\n",
    "1. Print a welcome message.\n",
    "2. Create variables to store the following details:\n",
    "    - Your name (string)\n",
    "    - Your age (integer)\n",
    "    - Your height (float)\n",
    "    - Whether you are a student (boolean)\n",
    "3. Print these details.\n"
   ]
  },
  {
   "cell_type": "code",
   "execution_count": 1,
   "metadata": {},
   "outputs": [
    {
     "name": "stdout",
     "output_type": "stream",
     "text": [
      "Hello everyone\n",
      "My name is, Taif I am 25 years old, my height is 160.0 cm, am I student? False\n"
     ]
    }
   ],
   "source": [
    "# write your code here ^_^\n",
    "print(\"Hello everyone\")\n",
    "name = \"Taif\"\n",
    "age = 25\n",
    "height = 160.0\n",
    "Student = False\n",
    "print( \"My name is, \" + name + \" I am \" + str(age)+  \" years old, my height is \" + str(height) + \" cm, am I student? \" + str(Student))"
   ]
  },
  {
   "cell_type": "markdown",
   "metadata": {},
   "source": [
    "### Task 2\n",
    " 1. Create a list of 5 favorite fruits.\n",
    " 2. Create a list with the price of each fruit.\n",
    " 3. Print the data types of these lists."
   ]
  },
  {
   "cell_type": "code",
   "execution_count": 4,
   "metadata": {},
   "outputs": [
    {
     "name": "stdout",
     "output_type": "stream",
     "text": [
      "<class 'list'> <class 'list'>\n"
     ]
    }
   ],
   "source": [
    "# write your code here ^_^\n",
    "Fruits= ['apple', 'orange', 'cherry', 'banana', 'peach']\n",
    "prices= [5 ,6 ,7 ,8 ,9 ,4]\n",
    "print(type(Fruits),type(prices))"
   ]
  },
  {
   "cell_type": "markdown",
   "metadata": {},
   "source": [
    "### Task 3\n",
    "1. Print the names of all fruits using a loop.\n",
    "2. Using a while loop and input built-in function, do the following:\n",
    "    - Ask the the user : \"what is the product of 7 * 24 ?\"\n",
    "    - check if the answer is right then exit the loop and print \"You answered this Question correctly\".\n",
    "    - if the answer is wrong, then print \"Your Answer is wrong try again..\" and show the user the question again.\n",
    "3. Build a program that takes one defined variable of type int, then it prints out the result formatted like the following pattern (if we give it 5 for example):\n",
    "\n",
    "    5 4 3 2 1\n",
    "\n",
    "    4 3 2 1\n",
    "\n",
    "    3 2 1\n",
    "\n",
    "    2 1\n",
    "    \n",
    "    1"
   ]
  },
  {
   "cell_type": "code",
   "execution_count": 11,
   "metadata": {},
   "outputs": [
    {
     "name": "stdout",
     "output_type": "stream",
     "text": [
      "apple\n",
      "orange\n",
      "cherry\n",
      "banana\n",
      "peach\n",
      "\n"
     ]
    },
    {
     "name": "stdin",
     "output_type": "stream",
     "text": [
      "What is the product of 7 * 24?  2\n"
     ]
    },
    {
     "name": "stdout",
     "output_type": "stream",
     "text": [
      "Your Answer is wrong. Try again...\n"
     ]
    },
    {
     "name": "stdin",
     "output_type": "stream",
     "text": [
      "What is the product of 7 * 24?  168\n"
     ]
    },
    {
     "name": "stdout",
     "output_type": "stream",
     "text": [
      "You answered this Question correctly.\n",
      "\n",
      "5 4 3 2 1 \n",
      "4 3 2 1 \n",
      "3 2 1 \n",
      "2 1 \n",
      "1 \n"
     ]
    }
   ],
   "source": [
    "# write your code here ^_^\n",
    "for f in Fruits:\n",
    "    print(f)\n",
    "print()\n",
    "correct_answer = 7 * 24\n",
    "\n",
    "while True:\n",
    "    user_input = int(input(\"What is the product of 7 * 24? \"))\n",
    "    \n",
    "    if user_input == correct_answer:\n",
    "        print(\"You answered this Question correctly.\")\n",
    "        break\n",
    "    else:\n",
    "        print(\"Your Answer is wrong. Try again...\")\n",
    "print()       \n",
    "num = 5\n",
    "for i in range(num, 0 , -1):\n",
    "    for p in range(i, 0, -1):\n",
    "        print(p, end=' ')\n",
    "    print()\n"
   ]
  },
  {
   "cell_type": "markdown",
   "metadata": {},
   "source": [
    "### Task 4\n",
    "You want to recommend a movie to a friend based on the rating and popularity. To accomplish this do the following:\n",
    "\n",
    "- Create a variable for the movie (choose any movie you like).\n",
    "- Create a variable of type int to hold the rating of the movie out of 5. Give this movie rate = 3\n",
    "- Create a popularity score of type float, let it be 72.65\n",
    "- Using an if statement:\n",
    "    - Check if the movie rating is 4 or greater and the popularity is greater than 80, print \"Highly recommended\".\n",
    "    - Else if the movie rating is 3 or greater and the popularity is greater than 70, print \"I recommended it, It is good\".\n",
    "    - Else if the movie rating is 2 or less and the popularity is greater than 60, print \"You should check it out!\".\n",
    "    - Else the movie rating is 2 or less and the popularity is less than 50, print \"Don't watch it, It is a waste of time\"."
   ]
  },
  {
   "cell_type": "code",
   "execution_count": 13,
   "metadata": {},
   "outputs": [
    {
     "name": "stdout",
     "output_type": "stream",
     "text": [
      "I recommended it, it is good\n"
     ]
    }
   ],
   "source": [
    "# write your code here ^_^\n",
    "movie = \"la la land\"\n",
    "rate = 3\n",
    "popularity_score= 72.65\n",
    "\n",
    "if rate >= 4 and popularity_score > 80 :\n",
    "    print (\"Highly recommended\")\n",
    "\n",
    "elif rate >= 3 and popularity_score >70:\n",
    "    print(\"I recommended it, it is good\")\n",
    "\n",
    "elif rate >= 2 and popularity_score >60:\n",
    "    print(\"You should check it out!\")\n",
    "else:\n",
    "    print (\"Don't watch it, It is a waste of time\")"
   ]
  },
  {
   "cell_type": "code",
   "execution_count": null,
   "metadata": {},
   "outputs": [],
   "source": []
  }
 ],
 "metadata": {
  "kernelspec": {
   "display_name": "Python 3 (ipykernel)",
   "language": "python",
   "name": "python3"
  },
  "language_info": {
   "codemirror_mode": {
    "name": "ipython",
    "version": 3
   },
   "file_extension": ".py",
   "mimetype": "text/x-python",
   "name": "python",
   "nbconvert_exporter": "python",
   "pygments_lexer": "ipython3",
   "version": "3.12.4"
  }
 },
 "nbformat": 4,
 "nbformat_minor": 4
}
