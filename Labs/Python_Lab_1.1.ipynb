{
 "cells": [
  {
   "cell_type": "markdown",
   "metadata": {},
   "source": [
    "# Python_Lab_1.1\n"
   ]
  },
  {
   "cell_type": "markdown",
   "metadata": {},
   "source": [
    "### Task 1\n",
    "1. Print a welcome message.\n",
    "2. Create variables to store the following details:\n",
    "    - Your name (string)\n",
    "    - Your age (integer)\n",
    "    - Your height (float)\n",
    "    - Whether you are a student (boolean)\n",
    "3. Print these details.\n"
   ]
  },
  {
   "cell_type": "code",
   "execution_count": 15,
   "metadata": {},
   "outputs": [
    {
     "name": "stdout",
     "output_type": "stream",
     "text": [
      "Welcom to lina's Lab 1\n",
      "name: lina , age:24 , height: 153 is student? False \n"
     ]
    }
   ],
   "source": [
    "# write your code here ^_^\n",
    "print(\"Welcom to lina's Lab 1\")\n",
    "name = \"lina\"\n",
    "age = 24\n",
    "height = 153\n",
    "isStudent = False\n",
    "\n",
    "print(f'name: {name} , age:{age} , height: {height} , is student? {isStudent} ' )"
   ]
  },
  {
   "cell_type": "markdown",
   "metadata": {},
   "source": [
    "### Task 2\n",
    " 1. Create a list of 5 favorite fruits.\n",
    " 2. Create a list with the price of each fruit.\n",
    " 3. Print the data types of these lists."
   ]
  },
  {
   "cell_type": "code",
   "execution_count": 5,
   "metadata": {},
   "outputs": [
    {
     "name": "stdout",
     "output_type": "stream",
     "text": [
      "<class 'list'> <class 'list'>\n"
     ]
    }
   ],
   "source": [
    "# write your code here ^_^\n",
    "fruits = ['berry', 'banana','orange','cherry']\n",
    "price = [5,4,3,2,1]\n",
    "print(type(fruits) , type(price))\n"
   ]
  },
  {
   "cell_type": "markdown",
   "metadata": {},
   "source": [
    "### Task 3\n",
    "1. Print the names of all fruits using a loop.\n",
    "2. Using a while loop and input built-in function, do the following:\n",
    "    - Ask the the user : \"what is the product of 7 * 24 ?\"\n",
    "    - check if the answer is right then exit the loop and print \"You answered this Question correctly\".\n",
    "    - if the answer is wrong, then print \"Your Answer is wrong try again..\" and show the user the question again.\n",
    "3. Build a program that takes one defined variable of type int, then it prints out the result formatted like the following pattern (if we give it 5 for example):\n",
    "\n",
    "    5 4 3 2 1\n",
    "\n",
    "    4 3 2 1\n",
    "\n",
    "    3 2 1\n",
    "\n",
    "    2 1\n",
    "    \n",
    "    1"
   ]
  },
  {
   "cell_type": "code",
   "execution_count": 16,
   "metadata": {},
   "outputs": [
    {
     "name": "stdout",
     "output_type": "stream",
     "text": [
      "berry\n",
      "banana\n",
      "orange\n",
      "cherry\n"
     ]
    }
   ],
   "source": [
    "#1:\n",
    "for f in fruits:\n",
    "    print(f)"
   ]
  },
  {
   "cell_type": "code",
   "execution_count": null,
   "metadata": {},
   "outputs": [],
   "source": [
    "# 2:\n",
    "\n",
    "userAnswer = int(input('What is the product of 7*24? '))\n",
    "# iterate until the user enters 168\n",
    "while userAnswer !=  7*24:\n",
    "    print('\"Your Answer is wrong try again..\"')\n",
    "    userAnswer = int(input('What is the product of 7*24 ?'))\n",
    "\n",
    "print('You answered this Question correctly')\n",
    "    \n"
   ]
  },
  {
   "cell_type": "code",
   "execution_count": 4,
   "metadata": {},
   "outputs": [
    {
     "name": "stdout",
     "output_type": "stream",
     "text": [
      "5 4 3 2 1 \n",
      "4 3 2 1 \n",
      "3 2 1 \n",
      "2 1 \n",
      "1 \n"
     ]
    }
   ],
   "source": [
    "#3:\n",
    "#start = n skip 0 ,  until the end\n",
    "n = 5\n",
    "for i in range(n,0,-1):\n",
    "    for j in range(i,0,-1):\n",
    "       print(j, end=\" \")\n",
    "    print()"
   ]
  },
  {
   "cell_type": "markdown",
   "metadata": {},
   "source": [
    "### Task 4\n",
    "You want to recommend a movie to a friend based on the rating and popularity. To accomplish this do the following:\n",
    "\n",
    "- Create a variable for the movie (choose any movie you like).\n",
    "- Create a variable of type int to hold the rating of the movie out of 5. Give this movie rate = 3\n",
    "- Create a popularity score of type float, let it be 72.65\n",
    "- Using an if statement:\n",
    "    - Check if the movie rating is 4 or greater and the popularity is greater than 80, print \"Highly recommended\".\n",
    "    - Else if the movie rating is 3 or greater and the popularity is greater than 70, print \"I recommended it, It is good\".\n",
    "    - Else if the movie rating is 2 or less and the popularity is greater than 60, print \"You should check it out!\".\n",
    "    - Else the movie rating is 2 or less and the popularity is less than 50, print \"Don't watch it, It is a waste of time\"."
   ]
  },
  {
   "cell_type": "code",
   "execution_count": 17,
   "metadata": {},
   "outputs": [
    {
     "name": "stdout",
     "output_type": "stream",
     "text": [
      "I recommended it, it is good\n"
     ]
    }
   ],
   "source": [
    "# write your code here ^_^\n",
    "\n",
    "def isRecommended(rate, popularity):\n",
    "  if rate >= 4 and popularity > 80:\n",
    "    print('Highly Recommended')\n",
    "  elif rate >= 3 and popularity > 70:\n",
    "     print('I recommended it, it is good')\n",
    "  elif rate <= 2 and popularity > 60:\n",
    "    print(\"You should check it out!\")\n",
    "  else:\n",
    "    print(\"Don't watch it, it is a waste of time\")\n",
    "    \n",
    "\n",
    "movie = 'The Holdovers'\n",
    "rate = 3\n",
    "popularity = 72.65\n",
    "isRecommended(rate, popularity)"
   ]
  }
 ],
 "metadata": {
  "kernelspec": {
   "display_name": "base",
   "language": "python",
   "name": "python3"
  },
  "language_info": {
   "codemirror_mode": {
    "name": "ipython",
    "version": 3
   },
   "file_extension": ".py",
   "mimetype": "text/x-python",
   "name": "python",
   "nbconvert_exporter": "python",
   "pygments_lexer": "ipython3",
   "version": "3.9.13"
  }
 },
 "nbformat": 4,
 "nbformat_minor": 2
}
