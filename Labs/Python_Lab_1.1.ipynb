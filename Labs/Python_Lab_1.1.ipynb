{
 "cells": [
  {
   "cell_type": "markdown",
   "metadata": {},
   "source": [
    "# Python_Lab_1.1\n"
   ]
  },
  {
   "cell_type": "markdown",
   "metadata": {},
   "source": [
    "### Task 1\n",
    "1. Print a welcome message.\n",
    "2. Create variables to store the following details:\n",
    "    - Your name (string)\n",
    "    - Your age (integer)\n",
    "    - Your height (float)\n",
    "    - Whether you are a student (boolean)\n",
    "3. Print these details.\n"
   ]
  },
  {
   "cell_type": "code",
   "execution_count": 1,
   "metadata": {},
   "outputs": [
    {
     "name": "stdout",
     "output_type": "stream",
     "text": [
      "welcome everyone\n",
      "My Name is Manal and i am 23 years old my height is 155.0 \n",
      "am i a student? False \n"
     ]
    }
   ],
   "source": [
    "# write your code here ^_^\n",
    "print(\"welcome everyone\")\n",
    "name,age,height,is_student=\"Manal\",23,155.0,False\n",
    "print(\"My Name is {} and i am {} years old my height is {} \\nam i a student? {} \".format(name,age,height,is_student))"
   ]
  },
  {
   "cell_type": "markdown",
   "metadata": {},
   "source": [
    "### Task 2\n",
    " 1. Create a list of 5 favorite fruits.\n",
    " 2. Create a list with the price of each fruit.\n",
    " 3. Print the data types of these lists."
   ]
  },
  {
   "cell_type": "code",
   "execution_count": 2,
   "metadata": {},
   "outputs": [
    {
     "name": "stdout",
     "output_type": "stream",
     "text": [
      "apple <class 'str'>\n",
      "banana <class 'str'>\n",
      "orange <class 'str'>\n",
      "watermelon <class 'str'>\n",
      "melon <class 'str'>\n",
      "10 <class 'int'>\n",
      "30 <class 'int'>\n",
      "40.5 <class 'float'>\n",
      "15 <class 'int'>\n",
      "23.5 <class 'float'>\n"
     ]
    }
   ],
   "source": [
    "# list of favorite fruits\n",
    "favorite_fruits=['apple','banana','orange','watermelon','melon']\n",
    "# list of fruit prices\n",
    "fruits_price=[10,30,40.5,15,23.5]\n",
    "# for loop to iterate over each element in a favorite_fruits list\n",
    "for fruit in favorite_fruits:\n",
    "    # Print fruit and data type of it \n",
    "    print(fruit,type(fruit))\n",
    "# for loop to iterate over each element in a fruits_price list\n",
    "for price in fruits_price:\n",
    "    # Print price and data type of it\n",
    "    print(price,type(price))\n"
   ]
  },
  {
   "cell_type": "markdown",
   "metadata": {},
   "source": [
    "### Task 3\n",
    "1. Print the names of all fruits using a loop.\n",
    "2. Using a while loop and input built-in function, do the following:\n",
    "    - Ask the the user : \"what is the product of 7 * 24 ?\"\n",
    "    - check if the answer is right then exit the loop and print \"You answered this Question correctly\".\n",
    "    - if the answer is wrong, then print \"Your Answer is wrong try again..\" and show the user the question again.\n",
    "3. Build a program that takes one defined variable of type int, then it prints out the result formatted like the following pattern (if we give it 5 for example):\n",
    "\n",
    "    5 4 3 2 1\n",
    "\n",
    "    4 3 2 1\n",
    "\n",
    "    3 2 1\n",
    "\n",
    "    2 1\n",
    "    \n",
    "    1"
   ]
  },
  {
   "cell_type": "code",
   "execution_count": 9,
   "metadata": {},
   "outputs": [
    {
     "name": "stdout",
     "output_type": "stream",
     "text": [
      "apple\n",
      "banana\n",
      "orange\n",
      "watermelon\n",
      "melon\n",
      "\n"
     ]
    },
    {
     "name": "stdin",
     "output_type": "stream",
     "text": [
      "what is the product of 7*24:  168\n"
     ]
    },
    {
     "name": "stdout",
     "output_type": "stream",
     "text": [
      "You answered this Question correctly\n",
      "\n",
      "formart pattern:\n",
      "5  4  3  2  1  \n",
      "4  3  2  1  \n",
      "3  2  1  \n",
      "2  1  \n",
      "1  \n"
     ]
    }
   ],
   "source": [
    "# for loop to iterate over each element in a favorite_fruits list\n",
    "for x in favorite_fruits:\n",
    "    # print element(name of fruit) \n",
    "    print(x)\n",
    "print()\n",
    "# ask the user to enter the result of 7*27 and save it in variable called result\n",
    "result=int(input(\"what is the product of 7*24: \"))\n",
    "\n",
    "# while loop will be executed if the condition is true.\n",
    "while result != 7*24:\n",
    "    print('Your Answer is wrong try again..')\n",
    "    # ask the user again to enter the result\n",
    "    result=int(input(\"what is the product of 7*24\"))\n",
    "\n",
    "print('You answered this Question correctly')\n",
    "# format pattern is a function prints out the results formatted like above in the task shown\n",
    "def format_pattern(num):\n",
    "    while num >  0:\n",
    "        for i in range(num,0,-1):\n",
    "            print(i,\" \",end='')\n",
    "        num=num-1\n",
    "        print()\n",
    "print()\n",
    "print('formart pattern:')\n",
    "format_pattern(5)"
   ]
  },
  {
   "cell_type": "markdown",
   "metadata": {},
   "source": [
    "### Task 4\n",
    "You want to recommend a movie to a friend based on the rating and popularity. To accomplish this do the following:\n",
    "\n",
    "- Create a variable for the movie (choose any movie you like).\n",
    "- Create a variable of type int to hold the rating of the movie out of 5. Give this movie rate = 3\n",
    "- Create a popularity score of type float, let it be 72.65\n",
    "- Using an if statement:\n",
    "    - Check if the movie rating is 4 or greater and the popularity is greater than 80, print \"Highly recommended\".\n",
    "    - Else if the movie rating is 3 or greater and the popularity is greater than 70, print \"I recommended it, It is good\".\n",
    "    - Else if the movie rating is 2 or less and the popularity is greater than 60, print \"You should check it out!\".\n",
    "    - Else the movie rating is 2 or less and the popularity is less than 50, print \"Don't watch it, It is a waste of time\"."
   ]
  },
  {
   "cell_type": "code",
   "execution_count": 10,
   "metadata": {},
   "outputs": [
    {
     "name": "stdout",
     "output_type": "stream",
     "text": [
      "I recommended it, It is good\n"
     ]
    }
   ],
   "source": [
    "movie=\"NeverLetGo\"\n",
    "movie_rate=3\n",
    "popularity_Score=72.65\n",
    "\n",
    "if movie_rate >= 4 and popularity_Score >80:\n",
    "    print(\"Highly recommended\")\n",
    "elif movie_rate >= 3 and popularity_Score >70:\n",
    "    print(\"I recommended it, It is good\")\n",
    "elif movie_rate <= 2 and popularity_Score >60:\n",
    "    print(\"You should check it out!\")\n",
    "else:\n",
    "    print(\"Don't watch it, It is a waste of time\")"
   ]
  }
 ],
 "metadata": {
  "kernelspec": {
   "display_name": "Python 3 (ipykernel)",
   "language": "python",
   "name": "python3"
  },
  "language_info": {
   "codemirror_mode": {
    "name": "ipython",
    "version": 3
   },
   "file_extension": ".py",
   "mimetype": "text/x-python",
   "name": "python",
   "nbconvert_exporter": "python",
   "pygments_lexer": "ipython3",
   "version": "3.11.7"
  }
 },
 "nbformat": 4,
 "nbformat_minor": 4
}
