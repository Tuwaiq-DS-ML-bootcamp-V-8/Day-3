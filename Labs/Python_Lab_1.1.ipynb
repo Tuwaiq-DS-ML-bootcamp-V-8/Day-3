{
 "cells": [
  {
   "cell_type": "markdown",
   "metadata": {},
   "source": [
    "# Python_Lab_1.1\n"
   ]
  },
  {
   "cell_type": "markdown",
   "metadata": {},
   "source": [
    "### Task 1\n",
    "1. Print a welcome message.\n",
    "2. Create variables to store the following details:\n",
    "    - Your name (string)\n",
    "    - Your age (integer)\n",
    "    - Your height (float)\n",
    "    - Whether you are a student (boolean)\n",
    "3. Print these details.\n"
   ]
  },
  {
   "cell_type": "code",
   "execution_count": 24,
   "metadata": {},
   "outputs": [
    {
     "name": "stdout",
     "output_type": "stream",
     "text": [
      "Hi, I am Faris, 22 years old, standing 1.8m tall. \n",
      "Am I a student? No.\n"
     ]
    }
   ],
   "source": [
    "# Define personal details\n",
    "name = \"Faris\"  # Name of the person\n",
    "age = 22  # Age of the person\n",
    "height = 1.8  # Height of the person in meters\n",
    "am_i_a_student = False  # Boolean indicating if the person is a student\n",
    "\n",
    "# Determine student status based on the boolean variable\n",
    "if am_i_a_student:\n",
    "    student_status = \"Yes.\"\n",
    "else:\n",
    "    student_status = \"No.\"\n",
    "\n",
    "# Print the personal details and student status\n",
    "print(\"Hi, I am \" + name + \", \" + str(age) + \" years old, standing \" + str(height) + \"m tall. \\nAm I a student? \" + student_status)"
   ]
  },
  {
   "cell_type": "markdown",
   "metadata": {},
   "source": [
    "### Task 2\n",
    " 1. Create a list of 5 favorite fruits.\n",
    " 2. Create a list with the price of each fruit.\n",
    " 3. Print the data types of these lists."
   ]
  },
  {
   "cell_type": "code",
   "execution_count": 25,
   "metadata": {},
   "outputs": [
    {
     "name": "stdout",
     "output_type": "stream",
     "text": [
      "The type of the data structure is:  list\n"
     ]
    }
   ],
   "source": [
    "# List of favorite fruits\n",
    "fav_fruit = [\"Apple\", \"Banana\", \"Watermelon\", \"Grapes\", \"Mango\"]\n",
    "\n",
    "# List of prices corresponding to each fruit\n",
    "fruit_price = [1.2, 0.5, 2.0, 1.5, 1.8]\n",
    "\n",
    "# Print the type of the data structure used for favorite fruits\n",
    "print(\"The type of the data structure is: \", type(fav_fruit).__name__)"
   ]
  },
  {
   "cell_type": "markdown",
   "metadata": {},
   "source": [
    "### Task 3\n",
    "1. Print the names of all fruits using a loop.\n",
    "2. Using a while loop and input built-in function, do the following:\n",
    "    - Ask the the user : \"what is the product of 7 * 24 ?\"\n",
    "    - check if the answer is right then exit the loop and print \"You answered this Question correctly\".\n",
    "    - if the answer is wrong, then print \"Your Answer is wrong try again..\" and show the user the question again.\n",
    "3. Build a program that takes one defined variable of type int, then it prints out the result formatted like the following pattern (if we give it 5 for example):\n",
    "\n",
    "    5 4 3 2 1\n",
    "\n",
    "    4 3 2 1\n",
    "\n",
    "    3 2 1\n",
    "\n",
    "    2 1\n",
    "    \n",
    "    1"
   ]
  },
  {
   "cell_type": "code",
   "execution_count": 5,
   "metadata": {},
   "outputs": [],
   "source": [
    "# function to get a valid natural number from the user\n",
    "def user_input_number():\n",
    "    while True:# Infinite loop to keep asking until a valid input is given\n",
    "        try:\n",
    "            user_answer = int(input(\"Enter a natural number: \"))  # Attempt to convert input to an integer\n",
    "            if user_answer > 0:  # Check if the number is a positive natural number\n",
    "                print(\"You answered this question correctly\")  # Correct input message\n",
    "                break  # Exit the loop when a valid number is entered\n",
    "            else:\n",
    "                print(\"Please enter a positive natural number.\")  # If the number is not positive, prompt again\n",
    "        except ValueError:  # Catch any input that isn't an integer\n",
    "            print(\"Invalid input. Enter a natural number: example 1, 2, 3, 4, 5\")  # Error message for invalid input\n",
    "    return user_answer  # Return the valid input"
   ]
  },
  {
   "cell_type": "code",
   "execution_count": 20,
   "metadata": {},
   "outputs": [
    {
     "name": "stdout",
     "output_type": "stream",
     "text": [
      "Fruit name: Apple\n",
      "Fruit name: Banana\n",
      "Fruit name: Watermelon\n",
      "Fruit name: Grapes\n",
      "Fruit name: Mango\n",
      "You answered this Question correctly\n",
      "You answered this question correctly\n",
      "3 2 1 \n",
      "2 1 \n",
      "1 \n"
     ]
    }
   ],
   "source": [
    "# Loop through each fruit in the fav_fruit list and print its name\n",
    "for fruit in fav_fruit:\n",
    "    print(\"Fruit name: \" + fruit)\n",
    "\n",
    "# Keep asking the user until they correctly answer the product of 7 * 24 in this case\n",
    "while True:\n",
    "    user_answer = input(\"what is the product of 7 * 24 ?\")\n",
    "    if user_answer == str(7*24): # Check if the input matches the correct answer (168)\n",
    "        print(\"You answered this Question correctly\")\n",
    "        break # Exit the loop when the correct answer is given\n",
    "    else:\n",
    "        print(\"Your Answer is wrong try again..\") # Prompt user to try again for an incorrect answer\n",
    " \n",
    "# Call the user_input_number() function to get a valid natural number from the user\n",
    "user_answer = user_input_number()\n",
    "\n",
    "# Countdown loop: Decrement user_answer and print a countdown from the entered number to 1\n",
    "while user_answer >0:\n",
    "    for i in range(user_answer, 0 , -1):  \n",
    "        print(i, end=' ')  # Print each number in the countdown on the same line\n",
    "    user_answer -= 1\n",
    "    print() # Move to the next line after each countdown loop"
   ]
  },
  {
   "cell_type": "markdown",
   "metadata": {},
   "source": [
    "### Task 4\n",
    "You want to recommend a movie to a friend based on the rating and popularity. To accomplish this do the following:\n",
    "\n",
    "- Create a variable for the movie (choose any movie you like).\n",
    "- Create a variable of type int to hold the rating of the movie out of 5. Give this movie rate = 3\n",
    "- Create a popularity score of type float, let it be 72.65\n",
    "- Using an if statement:\n",
    "    - Check if the movie rating is 4 or greater and the popularity is greater than 80, print \"Highly recommended\".\n",
    "    - Else if the movie rating is 3 or greater and the popularity is greater than 70, print \"I recommended it, It is good\".\n",
    "    - Else if the movie rating is 2 or less and the popularity is greater than 60, print \"You should check it out!\".\n",
    "    - Else the movie rating is 2 or less and the popularity is less than 50, print \"Don't watch it, It is a waste of time\"."
   ]
  },
  {
   "cell_type": "code",
   "execution_count": 21,
   "metadata": {},
   "outputs": [
    {
     "name": "stdout",
     "output_type": "stream",
     "text": [
      "I recommended it, It is good\n"
     ]
    }
   ],
   "source": [
    "# Variables\n",
    "movie = \"Inception\" # movie name\n",
    "rating = 3  # rating out of 5\n",
    "popularity = 72.65  # popularity score\n",
    "\n",
    "# If-else statements to determine recommendation\n",
    "if rating >= 4 and popularity > 80:\n",
    "    print(\"Highly recommended\")\n",
    "elif rating >= 3 and popularity > 70:\n",
    "    print(\"I recommended it, It is good\")\n",
    "elif rating <= 2 and popularity > 60:\n",
    "    print(\"You should check it out!\")\n",
    "else:\n",
    "    print(\"Don't watch it, It is a waste of time\")"
   ]
  }
 ],
 "metadata": {
  "kernelspec": {
   "display_name": "base",
   "language": "python",
   "name": "python3"
  },
  "language_info": {
   "codemirror_mode": {
    "name": "ipython",
    "version": 3
   },
   "file_extension": ".py",
   "mimetype": "text/x-python",
   "name": "python",
   "nbconvert_exporter": "python",
   "pygments_lexer": "ipython3",
   "version": "3.11.5"
  }
 },
 "nbformat": 4,
 "nbformat_minor": 2
}
