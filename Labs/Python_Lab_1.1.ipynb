{
 "cells": [
  {
   "cell_type": "markdown",
   "metadata": {},
   "source": [
    "# Python_Lab_1.1\n"
   ]
  },
  {
   "cell_type": "markdown",
   "metadata": {},
   "source": [
    "### Task 1\n",
    "1. Print a welcome message.\n",
    "2. Create variables to store the following details:\n",
    "    - Your name (string)\n",
    "    - Your age (integer)\n",
    "    - Your height (float)\n",
    "    - Whether you are a student (boolean)\n",
    "3. Print these details.\n"
   ]
  },
  {
   "cell_type": "code",
   "execution_count": 11,
   "metadata": {},
   "outputs": [
    {
     "name": "stdout",
     "output_type": "stream",
     "text": [
      "welcome\n",
      "My name is Ahmad I am 21 years old, my height is 1.7 and I am not a student\n"
     ]
    }
   ],
   "source": [
    "print(\"welcome\")\n",
    "name, age, height, isStudent = \"Ahmad\", 21, 1.70, True\n",
    "print(f\"My name is {name} I am {age} years old, my height is {height} and I am {'a student' if isStudent else 'not a student'}\")"
   ]
  },
  {
   "cell_type": "markdown",
   "metadata": {},
   "source": [
    "### Task 2\n",
    " 1. Create a list of 5 favorite fruits.\n",
    " 2. Create a list with the price of each fruit.\n",
    " 3. Print the data types of these lists."
   ]
  },
  {
   "cell_type": "code",
   "execution_count": 1,
   "metadata": {},
   "outputs": [
    {
     "name": "stdout",
     "output_type": "stream",
     "text": [
      "<class 'list'>\n",
      "<class 'list'>\n"
     ]
    }
   ],
   "source": [
    "lst1 = [\"Apple\",\"Orange\",\"Banana\",\"Mango\",\"Strawberry\"]\n",
    "lst2 = [3.0,2.5,1.0,2.75,4.0]\n",
    "print(type(lst1))\n",
    "print(type(lst2))"
   ]
  },
  {
   "cell_type": "markdown",
   "metadata": {},
   "source": [
    "### Task 3\n",
    "1. Print the names of all fruits using a loop.\n",
    "2. Using a while loop and input built-in function, do the following:\n",
    "    - Ask the the user : \"what is the product of 7 * 24 ?\"\n",
    "    - check if the answer is right then exit the loop and print \"You answered this Question correctly\".\n",
    "    - if the answer is wrong, then print \"Your Answer is wrong try again..\" and show the user the question again.\n",
    "3. Build a program that takes one defined variable of type int, then it prints out the result formatted like the following pattern (if we give it 5 for example):\n",
    "\n",
    "    5 4 3 2 1\n",
    "\n",
    "    4 3 2 1\n",
    "\n",
    "    3 2 1\n",
    "\n",
    "    2 1\n",
    "    \n",
    "    1"
   ]
  },
  {
   "cell_type": "code",
   "execution_count": 3,
   "metadata": {},
   "outputs": [
    {
     "name": "stdout",
     "output_type": "stream",
     "text": [
      "Apple\n",
      "Orange\n",
      "Banana\n",
      "Mango\n",
      "Strawberry\n"
     ]
    }
   ],
   "source": [
    "favorite_fruits = [\"Apple\", \"Orange\", \"Banana\", \"Mango\", \"Strawberry\"]\n",
    "\n",
    "# Loop through the list and print each fruit\n",
    "for fruit in favorite_fruits:\n",
    "    print(fruit)\n",
    "    \n",
    "while True:\n",
    "    # Ask the user for the answer\n",
    "    answer = int(input(\"What is the product of 7 * 24? \"))\n",
    "    \n",
    "    # Check if the answer is correct\n",
    "    if answer == 168:\n",
    "        print(\"You answered this question correctly.\")\n",
    "        break  # Exit the loop if the answer is correct\n",
    "    else:\n",
    "        print(\"Your answer is wrong, try again.\")\n",
    "\n",
    "    def print_pattern(n):\n",
    "        for i in range(n, 0, -1):\n",
    "            for j in range(i, 0, -1):\n",
    "                print(j, end=\"\")\n",
    "            print()  # Move to the next line\n",
    "\n",
    "    # Call the function with an example input\n",
    "    print_pattern(5)"
   ]
  },
  {
   "cell_type": "markdown",
   "metadata": {},
   "source": [
    "### Task 4\n",
    "You want to recommend a movie to a friend based on the rating and popularity. To accomplish this do the following:\n",
    "\n",
    "- Create a variable for the movie (choose any movie you like).\n",
    "- Create a variable of type int to hold the rating of the movie out of 5. Give this movie rate = 3\n",
    "- Create a popularity score of type float, let it be 72.65\n",
    "- Using an if statement:\n",
    "    - Check if the movie rating is 4 or greater and the popularity is greater than 80, print \"Highly recommended\".\n",
    "    - Else if the movie rating is 3 or greater and the popularity is greater than 70, print \"I recommended it, It is good\".\n",
    "    - Else if the movie rating is 2 or less and the popularity is greater than 60, print \"You should check it out!\".\n",
    "    - Else the movie rating is 2 or less and the popularity is less than 50, print \"Don't watch it, It is a waste of time\"."
   ]
  },
  {
   "cell_type": "code",
   "execution_count": 5,
   "metadata": {},
   "outputs": [
    {
     "name": "stdout",
     "output_type": "stream",
     "text": [
      "I recommended it, It is good\n"
     ]
    }
   ],
   "source": [
    "movie = \"Inception\"\n",
    "# Define a variable for the movie rating (out of 5), set to 3 as per the instructions\n",
    "movie_rating = 3\n",
    "\n",
    "# Define a popularity score as a float\n",
    "popularity_score = 72.65\n",
    "\n",
    "# Use an if statement to recommend the movie based on the rating and popularity\n",
    "if movie_rating >= 4 and popularity_score > 80:\n",
    "    print(\"Highly recommended\")\n",
    "elif movie_rating >= 3 and popularity_score > 70:\n",
    "    print(\"I recommended it, It is good\")\n",
    "elif movie_rating <= 2 and popularity_score > 60:\n",
    "    print(\"You should check it out!\")\n",
    "elif movie_rating <= 2 and popularity_score < 50:\n",
    "    print(\"Don't watch it, It is a waste of time\")"
   ]
  }
 ],
 "metadata": {
  "kernelspec": {
   "display_name": "Python 3",
   "language": "python",
   "name": "python3"
  },
  "language_info": {
   "codemirror_mode": {
    "name": "ipython",
    "version": 3
   },
   "file_extension": ".py",
   "mimetype": "text/x-python",
   "name": "python",
   "nbconvert_exporter": "python",
   "pygments_lexer": "ipython3",
   "version": "3.12.0"
  }
 },
 "nbformat": 4,
 "nbformat_minor": 2
}
