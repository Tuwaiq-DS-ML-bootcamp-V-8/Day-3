{
 "cells": [
  {
   "cell_type": "markdown",
   "metadata": {},
   "source": [
    "# Python_Lab_1.1\n"
   ]
  },
  {
   "cell_type": "markdown",
   "metadata": {},
   "source": [
    "### Task 1\n",
    "1. Print a welcome message.\n",
    "2. Create variables to store the following details:\n",
    "    - Your name (string)\n",
    "    - Your age (integer)\n",
    "    - Your height (float)\n",
    "    - Whether you are a student (boolean)\n",
    "3. Print these details.\n"
   ]
  },
  {
   "cell_type": "code",
   "execution_count": 5,
   "metadata": {},
   "outputs": [
    {
     "name": "stdout",
     "output_type": "stream",
     "text": [
      "welcome to Data Sceience and Machine Learning Bootcamp\n",
      "my name is  Ahood my age is  20 my height is  167.6 and if you wonder if am I a student or not the answer is  True i am a student\n"
     ]
    }
   ],
   "source": [
    "# write your code here ^_^\n",
    "# write your code here ^_^\n",
    "print (\"welcome to Data Sceience and Machine Learning Bootcamp\")\n",
    "name=\"Ahood\"\n",
    "age=20\n",
    "height=167.6\n",
    "is_student=True\n",
    "print(\"my name is \",name,\"my age is \",age,\"my height is \",height,\"and if you wonder if am I a student or not the answer is \",is_student,\"i am a student\")\n"
   ]
  },
  {
   "cell_type": "markdown",
   "metadata": {},
   "source": [
    "### Task 2\n",
    " 1. Create a list of 5 favorite fruits.\n",
    " 2. Create a list with the price of each fruit.\n",
    " 3. Print the data types of these lists."
   ]
  },
  {
   "cell_type": "code",
   "execution_count": 9,
   "metadata": {},
   "outputs": [
    {
     "name": "stdout",
     "output_type": "stream",
     "text": [
      "The type of fruits list is : <class 'list'>\n",
      "The type of price list is : <class 'list'>\n"
     ]
    }
   ],
   "source": [
    "# write your code here ^_^\n",
    "# write your code here ^_^\n",
    "fruits=[\"berry\",\"apple\",\"strawberry\",\"fig\"]\n",
    "price=[23,12,18]\n",
    "print (\"The type of fruits list is :\" ,type(fruits))\n",
    "print (\"The type of price list is :\" ,type(price))\n"
   ]
  },
  {
   "cell_type": "markdown",
   "metadata": {},
   "source": [
    "### Task 3\n",
    "1. Print the names of all fruits using a loop.\n",
    "2. Using a while loop and input built-in function, do the following:\n",
    "    - Ask the the user : \"what is the product of 7 * 24 ?\"\n",
    "    - check if the answer is right then exit the loop and print \"You answered this Question correctly\".\n",
    "    - if the answer is wrong, then print \"Your Answer is wrong try again..\" and show the user the question again.\n",
    "3. Build a program that takes one defined variable of type int, then it prints out the result formatted like the following pattern (if we give it 5 for example):\n",
    "\n",
    "    5 4 3 2 1\n",
    "\n",
    "    4 3 2 1\n",
    "\n",
    "    3 2 1\n",
    "\n",
    "    2 1\n",
    "    \n",
    "    1"
   ]
  },
  {
   "cell_type": "code",
   "execution_count": 25,
   "metadata": {},
   "outputs": [
    {
     "name": "stdout",
     "output_type": "stream",
     "text": [
      "berry\n",
      "apple\n",
      "strawberry\n",
      "fig\n"
     ]
    },
    {
     "name": "stdin",
     "output_type": "stream",
     "text": [
      "what is the product of 7*24? 168\n"
     ]
    },
    {
     "name": "stdout",
     "output_type": "stream",
     "text": [
      "You answered this Question correctly\n"
     ]
    },
    {
     "name": "stdin",
     "output_type": "stream",
     "text": [
      "enter a number to display a pattern.. 4\n"
     ]
    },
    {
     "name": "stdout",
     "output_type": "stream",
     "text": [
      "4 3 2 1 \n",
      "3 2 1 \n",
      "2 1 \n",
      "1 \n"
     ]
    }
   ],
   "source": [
    "# write your code here ^_^\n",
    "# write your code here ^_^\n",
    "for i in fruits :\n",
    "    print (i)\n",
    "while True:\n",
    "    x=int(input(\"what is the product of 7*24?\"))\n",
    "    if x == 7*24: \n",
    "        print (\"You answered this Question correctly\")\n",
    "        break\n",
    "    else: \n",
    "        print (\"Your Answer is wrong try again..\")\n",
    "def pattern(x):\n",
    "    for i in range(x,0,-1):\n",
    "        for j in range(i,0,-1):\n",
    "            print (j ,end=\" \")\n",
    "        print()\n",
    "        \n",
    "x=int(input(\"enter a number to display a pattern..\"))   \n",
    "pattern (x)\n"
   ]
  },
  {
   "cell_type": "markdown",
   "metadata": {},
   "source": [
    "### Task 4\n",
    "You want to recommend a movie to a friend based on the rating and popularity. To accomplish this do the following:\n",
    "\n",
    "- Create a variable for the movie (choose any movie you like).\n",
    "- Create a variable of type int to hold the rating of the movie out of 5. Give this movie rate = 3\n",
    "- Create a popularity score of type float, let it be 72.65\n",
    "- Using an if statement:\n",
    "    - Check if the movie rating is 4 or greater and the popularity is greater than 80, print \"Highly recommended\".\n",
    "    - Else if the movie rating is 3 or greater and the popularity is greater than 70, print \"I recommended it, It is good\".\n",
    "    - Else if the movie rating is 2 or less and the popularity is greater than 60, print \"You should check it out!\".\n",
    "    - Else the movie rating is 2 or less and the popularity is less than 50, print \"Don't watch it, It is a waste of time\"."
   ]
  },
  {
   "cell_type": "code",
   "execution_count": 27,
   "metadata": {},
   "outputs": [
    {
     "name": "stdout",
     "output_type": "stream",
     "text": [
      "I recommended it, It is good\n"
     ]
    }
   ],
   "source": [
    "# write your code here ^_^\n",
    "# write your code here ^_^\n",
    "movie=\"the wild robot\"\n",
    "rate=3\n",
    "popoularity_score=72.65\n",
    "if rate >=4  and popoularity_score > 80 :\n",
    "    print (\"Highly recommended\")\n",
    "elif rate >= 3 and popoularity_score >70 :\n",
    "    print (\"I recommended it, It is good\")\n",
    "elif rate <= 2 and popoularity_score >60 :\n",
    "    print (\"You should check it out!\")\n",
    "elif rate <=2 and popoularity_score <50 :\n",
    "    print (\"Don't watch it, It is a waste of time\")"
   ]
  }
 ],
 "metadata": {
  "kernelspec": {
   "display_name": "Python 3 (ipykernel)",
   "language": "python",
   "name": "python3"
  },
  "language_info": {
   "codemirror_mode": {
    "name": "ipython",
    "version": 3
   },
   "file_extension": ".py",
   "mimetype": "text/x-python",
   "name": "python",
   "nbconvert_exporter": "python",
   "pygments_lexer": "ipython3",
   "version": "3.12.4"
  }
 },
 "nbformat": 4,
 "nbformat_minor": 4
}
