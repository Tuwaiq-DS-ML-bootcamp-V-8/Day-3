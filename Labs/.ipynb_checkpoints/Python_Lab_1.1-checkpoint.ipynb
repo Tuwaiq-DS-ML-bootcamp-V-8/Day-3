{
 "cells": [
  {
   "cell_type": "markdown",
   "metadata": {},
   "source": [
    "# Python_Lab_1.1\n"
   ]
  },
  {
   "cell_type": "markdown",
   "metadata": {},
   "source": [
    "### Task 1\n",
    "1. Print a welcome message.\n",
    "2. Create variables to store the following details:\n",
    "    - Your name (string)\n",
    "    - Your age (integer)\n",
    "    - Your height (float)\n",
    "    - Whether you are a student (boolean)\n",
    "3. Print these details.\n"
   ]
  },
  {
   "cell_type": "code",
   "execution_count": 79,
   "metadata": {},
   "outputs": [
    {
     "name": "stdout",
     "output_type": "stream",
     "text": [
      "Welcome to my lab task\n",
      "My name is  Abdullah\n",
      "My age is  23\n",
      "My height is  177\n",
      "Am i a student?  True\n"
     ]
    }
   ],
   "source": [
    "#Q1\n",
    "print(\"Welcome to my lab task\")\n",
    "\n",
    "#Q2\n",
    "name = \"Abdullah\"\n",
    "age = 23\n",
    "height = 177\n",
    "student = True\n",
    "\n",
    "#Q3\n",
    "print(\"My name is \", name)\n",
    "print(\"My age is \", age)\n",
    "print(\"My height is \", height)\n",
    "print(\"Am i a student? \", student)"
   ]
  },
  {
   "cell_type": "markdown",
   "metadata": {},
   "source": [
    "### Task 2\n",
    " 1. Create a list of 5 favorite fruits.\n",
    " 2. Create a list with the price of each fruit.\n",
    " 3. Print the data types of these lists."
   ]
  },
  {
   "cell_type": "code",
   "execution_count": 77,
   "metadata": {},
   "outputs": [
    {
     "name": "stdout",
     "output_type": "stream",
     "text": [
      "my_fav_fruits type is :  <class 'list'>\n",
      "fruits_price type is :  <class 'list'>\n"
     ]
    }
   ],
   "source": [
    "#Q1\n",
    "my_fav_fruits = [\"mango\", \"apple\", \"orange\" , \"banana\", \"lemon\"]\n",
    "\n",
    "#Q2\n",
    "fruits_price = [5, 3, 4, 4, 3]\n",
    "\n",
    "#Q3\n",
    "print(\"my_fav_fruits type is : \", type(my_fav_fruits))\n",
    "print(\"fruits_price type is : \", type(fruits_price))"
   ]
  },
  {
   "cell_type": "markdown",
   "metadata": {},
   "source": [
    "### Task 3\n",
    "1. Print the names of all fruits using a loop.\n",
    "2. Using a while loop and input built-in function, do the following:\n",
    "    - Ask the the user : \"what is the product of 7 * 24 ?\"\n",
    "    - check if the answer is right then exit the loop and print \"You answered this Question correctly\".\n",
    "    - if the answer is wrong, then print \"Your Answer is wrong try again..\" and show the user the question again.\n",
    "3. Build a program that takes one defined variable of type int, then it prints out the result formatted like the following pattern (if we give it 5 for example):\n",
    "\n",
    "    5 4 3 2 1\n",
    "\n",
    "    4 3 2 1\n",
    "\n",
    "    3 2 1\n",
    "\n",
    "    2 1\n",
    "    \n",
    "    1"
   ]
  },
  {
   "cell_type": "code",
   "execution_count": 33,
   "metadata": {},
   "outputs": [
    {
     "name": "stdout",
     "output_type": "stream",
     "text": [
      "mango\n",
      "apple\n",
      "orange\n",
      "banana\n",
      "lemon\n"
     ]
    }
   ],
   "source": [
    "#Q1\n",
    "for i in my_fav_fruits:\n",
    "    print(i)\n",
    "    \n"
   ]
  },
  {
   "cell_type": "code",
   "execution_count": 75,
   "metadata": {},
   "outputs": [
    {
     "name": "stdin",
     "output_type": "stream",
     "text": [
      "what is the product of 7 * 24 ? 168\n"
     ]
    },
    {
     "name": "stdout",
     "output_type": "stream",
     "text": [
      "You answered this Question correctly\n"
     ]
    }
   ],
   "source": [
    "#Q2\n",
    "\n",
    "actual_answer = 168\n",
    "\n",
    "while True:\n",
    "    user_answer = input(\"what is the product of 7 * 24 ?\")\n",
    "\n",
    "    if int(user_answer) == actual_answer:\n",
    "        print(\"You answered this Question correctly\")\n",
    "        break\n",
    "    else:\n",
    "        print(\"Your Answer is wrong try again..\")"
   ]
  },
  {
   "cell_type": "code",
   "execution_count": 69,
   "metadata": {},
   "outputs": [
    {
     "name": "stdout",
     "output_type": "stream",
     "text": [
      "5 4 3 2 1 \n",
      "4 3 2 1 \n",
      "3 2 1 \n",
      "2 1 \n",
      "1 \n"
     ]
    }
   ],
   "source": [
    "def triangle(x):\n",
    "    for i in range(x,0,-1):\n",
    "        for j in  range(i,0,-1):\n",
    "            print(j, end=\" \" )\n",
    "        print(\"\")\n",
    "triangle(5)"
   ]
  },
  {
   "cell_type": "markdown",
   "metadata": {},
   "source": [
    "### Task 4\n",
    "You want to recommend a movie to a friend based on the rating and popularity. To accomplish this do the following:\n",
    "\n",
    "- Create a variable for the movie (choose any movie you like).\n",
    "- Create a variable of type int to hold the rating of the movie out of 5. Give this movie rate = 3\n",
    "- Create a popularity score of type float, let it be 72.65\n",
    "- Using an if statement:\n",
    "    - Check if the movie rating is 4 or greater and the popularity is greater than 80, print \"Highly recommended\".\n",
    "    - Else if the movie rating is 3 or greater and the popularity is greater than 70, print \"I recommended it, It is good\".\n",
    "    - Else if the movie rating is 2 or less and the popularity is greater than 60, print \"You should check it out!\".\n",
    "    - Else the movie rating is 2 or less and the popularity is less than 50, print \"Don't watch it, It is a waste of time\"."
   ]
  },
  {
   "cell_type": "code",
   "execution_count": 67,
   "metadata": {},
   "outputs": [
    {
     "name": "stdout",
     "output_type": "stream",
     "text": [
      "I recommended it, It is good\n"
     ]
    }
   ],
   "source": [
    "movie = \"Godfather\"\n",
    "movie_rating=  3\n",
    "movie_popularity = 72.65\n",
    "\n",
    "if movie_rating >= 4 and movie_popularity > 80 : \n",
    "    print(\"Highly recommended\")\n",
    "    \n",
    "elif movie_rating >= 3 and movie_popularity > 70:\n",
    "    print(\"I recommended it, It is good\")\n",
    "\n",
    "elif movie_rating >= 2 and movie_popularity > 60:\n",
    "    print(\"You should check it out!\")\n",
    "    \n",
    "elif movie_rating <= 2 and movie_popularity < 50:\n",
    "    print(\"Don't watch it, It is a waste of time\")\n",
    "    "
   ]
  },
  {
   "cell_type": "code",
   "execution_count": null,
   "metadata": {},
   "outputs": [],
   "source": []
  }
 ],
 "metadata": {
  "kernelspec": {
   "display_name": "Python 3 (ipykernel)",
   "language": "python",
   "name": "python3"
  },
  "language_info": {
   "codemirror_mode": {
    "name": "ipython",
    "version": 3
   },
   "file_extension": ".py",
   "mimetype": "text/x-python",
   "name": "python",
   "nbconvert_exporter": "python",
   "pygments_lexer": "ipython3",
   "version": "3.12.4"
  }
 },
 "nbformat": 4,
 "nbformat_minor": 4
}
