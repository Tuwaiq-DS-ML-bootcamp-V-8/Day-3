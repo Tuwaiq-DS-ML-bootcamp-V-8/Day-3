{
 "cells": [
  {
   "cell_type": "markdown",
   "metadata": {},
   "source": [
    "# Python_Lab_1.2"
   ]
  },
  {
   "cell_type": "markdown",
   "metadata": {},
   "source": [
    "### Task 1: \n",
    "1. Create a tuple with the following details:\n",
    "    - Your favorite movie (string)\n",
    "    - The year it was released (integer)\n",
    "    - Its rating out of 10 (float)\n",
    "    - Whether you have watched it (boolean)\n",
    "2. Print the detailes"
   ]
  },
  {
   "cell_type": "code",
   "execution_count": 2,
   "metadata": {},
   "outputs": [
    {
     "name": "stdout",
     "output_type": "stream",
     "text": [
      "my favorite movie is  wild robot\n",
      "it was released in 2024\n",
      "its rating 9.5\n",
      "do I watch it?  True\n"
     ]
    }
   ],
   "source": [
    "# write your code here ^_^\n",
    "# write your code here ^_^\n",
    "favorite_movie=(\"wild robot\",2024,9.5,True)\n",
    "print (\"my favorite movie is \", favorite_movie[0] )\n",
    "print (\"it was released in\", favorite_movie[1] )\n",
    "print (\"its rating\",favorite_movie[2] )\n",
    "print (\"do I watch it? \",favorite_movie[3] )\n"
   ]
  },
  {
   "cell_type": "markdown",
   "metadata": {},
   "source": [
    "### Task 2:\n",
    "1. Create a set of 5 favorite colors.\n",
    "2. Print all the colors"
   ]
  },
  {
   "cell_type": "code",
   "execution_count": 4,
   "metadata": {},
   "outputs": [
    {
     "name": "stdout",
     "output_type": "stream",
     "text": [
      "blue\n",
      "orange\n",
      "yellow\n",
      "red\n"
     ]
    }
   ],
   "source": [
    "# write your code here ^_^\n",
    "colors={\"red\",\"blue\",\"yellow\",\"orange\"}\n",
    "for i in colors:\n",
    "    print (i)"
   ]
  },
  {
   "cell_type": "markdown",
   "metadata": {},
   "source": [
    "### Task 3:\n",
    "1. Create a dictionary to store information about 3 friends (name as key and a tuple with age and favorite hobby as value).\n",
    "2. Print the details of all friends."
   ]
  },
  {
   "cell_type": "code",
   "execution_count": 6,
   "metadata": {},
   "outputs": [
    {
     "name": "stdout",
     "output_type": "stream",
     "text": [
      " Name: naif, Age :35, Hoppy :reading\n",
      " Name: sultan, Age :50, Hoppy :drowing\n",
      " Name: ghina, Age :28, Hoppy :art\n"
     ]
    }
   ],
   "source": [
    "# write your code here ^_^\n",
    "my_friends={\"naif\":(35,\"reading\")\n",
    "            ,\"sultan\":(50,\"drowing\")\n",
    "            ,\"ghina\":(28,\"art\")}\n",
    "for name ,detail in my_friends.items():\n",
    "    age,hoppy=detail\n",
    "    print(f\" Name: {name}, Age :{age}, Hoppy :{hoppy}\")"
   ]
  },
  {
   "cell_type": "markdown",
   "metadata": {},
   "source": [
    "### Task 4:\n",
    "1. Check if you have watched the movie and print an appropriate message.\n",
    "1. Check if a specific color is in your favorite colors set and print its availability status."
   ]
  },
  {
   "cell_type": "code",
   "execution_count": 22,
   "metadata": {},
   "outputs": [
    {
     "name": "stdout",
     "output_type": "stream",
     "text": [
      "you have watched the movie wild robot !tell us about it \n"
     ]
    },
    {
     "name": "stdin",
     "output_type": "stream",
     "text": [
      "enter a specific color rew\n"
     ]
    },
    {
     "name": "stdout",
     "output_type": "stream",
     "text": [
      "color you have entered is not in the colors set ,so its satatus False\n"
     ]
    }
   ],
   "source": [
    "# write your code here ^_^\n",
    "# write your code here ^_^\n",
    "if favorite_movie[3] == True: \n",
    "    print (\"you have watched the movie\" , favorite_movie[0], \"!tell us about it \")\n",
    "else:\n",
    "    print (\"Don not miss it !\")\n",
    "\n",
    "specific_color=input(\"enter a specific color\")\n",
    "if specific_color in colors:\n",
    "    availability_status= True\n",
    "    print (\"the color you just entered is in there ,so its satatus\",availability_status)\n",
    "else:\n",
    "    availability_status= False\n",
    "    print(\"color you have entered is not in the colors set ,so its satatus\",availability_status)"
   ]
  },
  {
   "cell_type": "markdown",
   "metadata": {},
   "source": []
  }
 ],
 "metadata": {
  "kernelspec": {
   "display_name": "Python 3 (ipykernel)",
   "language": "python",
   "name": "python3"
  },
  "language_info": {
   "codemirror_mode": {
    "name": "ipython",
    "version": 3
   },
   "file_extension": ".py",
   "mimetype": "text/x-python",
   "name": "python",
   "nbconvert_exporter": "python",
   "pygments_lexer": "ipython3",
   "version": "3.12.4"
  }
 },
 "nbformat": 4,
 "nbformat_minor": 4
}
