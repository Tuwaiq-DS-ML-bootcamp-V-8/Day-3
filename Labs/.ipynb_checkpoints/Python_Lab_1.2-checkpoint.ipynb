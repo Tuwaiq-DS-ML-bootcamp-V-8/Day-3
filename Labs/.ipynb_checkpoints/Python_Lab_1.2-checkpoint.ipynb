{
 "cells": [
  {
   "cell_type": "markdown",
   "metadata": {},
   "source": [
    "# Python_Lab_1.2"
   ]
  },
  {
   "cell_type": "markdown",
   "metadata": {},
   "source": [
    "### Task 1: \n",
    "1. Create a tuple with the following details:\n",
    "    - Your favorite movie (string)\n",
    "    - The year it was released (integer)\n",
    "    - Its rating out of 10 (float)\n",
    "    - Whether you have watched it (boolean)\n",
    "2. Print the detailes"
   ]
  },
  {
   "cell_type": "code",
   "execution_count": 37,
   "metadata": {},
   "outputs": [
    {
     "name": "stdout",
     "output_type": "stream",
     "text": [
      "Movie name: Godfather\n",
      "Movie released year: 1972\n",
      "Movie rating out of 10: 9.2\n",
      "Did I watch this movie?: Yes\n"
     ]
    }
   ],
   "source": [
    "#Q1\n",
    "\n",
    "my_favorite_movie = (\"Godfather\" , 1972 , 9.2 , True)\n",
    "\n",
    "#Q2\n",
    "\n",
    "print(f\"Movie name: {my_favorite_movie[0]}\")\n",
    "print(f\"Movie released year: {my_favorite_movie[1]}\")\n",
    "print(f\"Movie rating out of 10: {my_favorite_movie[2]}\")\n",
    "print(f\"Did I watch this movie?: {\"Yes\" if my_favorite_movie[3] == True else \"No\"}\")\n",
    "\n",
    "\n",
    "\n",
    "\n"
   ]
  },
  {
   "cell_type": "markdown",
   "metadata": {},
   "source": [
    "### Task 2:\n",
    "1. Create a set of 5 favorite colors.\n",
    "2. Print all the colors"
   ]
  },
  {
   "cell_type": "code",
   "execution_count": 29,
   "metadata": {},
   "outputs": [
    {
     "name": "stdout",
     "output_type": "stream",
     "text": [
      "white\n",
      "yellow\n",
      "red\n",
      "black\n",
      "blue\n"
     ]
    }
   ],
   "source": [
    "#Q1\n",
    "\n",
    "my_favorite_colors = {\"blue\" , \"red\" , \"black\" , \"white\" , \"yellow\"}\n",
    "\n",
    "for i in my_favorite_colors:\n",
    "    print(i)"
   ]
  },
  {
   "cell_type": "markdown",
   "metadata": {},
   "source": [
    "### Task 3:\n",
    "1. Create a dictionary to store information about 3 friends (name as key and a tuple with age and favorite hobby as value).\n",
    "2. Print the details of all friends."
   ]
  },
  {
   "cell_type": "code",
   "execution_count": 35,
   "metadata": {},
   "outputs": [
    {
     "name": "stdout",
     "output_type": "stream",
     "text": [
      "Name: Saleh , Age: 23 , Favorite hobby: Football\n",
      "Name: Mohammed , Age: 23 , Favorite hobby: Gaming\n",
      "Name: Abdulaziz , Age: 23 , Favorite hobby: Basketball\n"
     ]
    }
   ],
   "source": [
    "#Q1\n",
    "\n",
    "my_friends= {\"Saleh\" : (23 , \"Football\")  , \"Mohammed\" : (23 , \"Gaming\"),\n",
    "             \"Abdulaziz\" : (23 , \"Basketball\")}\n",
    "\n",
    "#Q2\n",
    "\n",
    "for name, (age , fav_hobby) in my_friends.items():\n",
    "    print(f\"Name: {name} , Age: {age} , Favorite hobby: {fav_hobby}\")"
   ]
  },
  {
   "cell_type": "markdown",
   "metadata": {},
   "source": [
    "### Task 4:\n",
    "1. Check if you have watched the movie and print an appropriate message.\n",
    "1. Check if a specific color is in your favorite colors set and print its availability status."
   ]
  },
  {
   "cell_type": "code",
   "execution_count": 43,
   "metadata": {},
   "outputs": [
    {
     "name": "stdout",
     "output_type": "stream",
     "text": [
      "You watched it\n",
      "whitee is not in the my favorite colors set\n"
     ]
    }
   ],
   "source": [
    "#Q1\n",
    "\n",
    "if(my_favorite_movie[3]):\n",
    "    print(\"You watched it\")\n",
    "else:\n",
    "    print(\"You didn't watch it\")\n",
    "\n",
    "#Q2\n",
    "\n",
    "color = \"white\"\n",
    "\n",
    "if color in my_favorite_colors:\n",
    "    print(f\"{color} is in the my favorite colors set\")\n",
    "else:\n",
    "    print(f\"{color} is not in the my favorite colors set\")\n"
   ]
  },
  {
   "cell_type": "markdown",
   "metadata": {},
   "source": []
  }
 ],
 "metadata": {
  "kernelspec": {
   "display_name": "Python 3 (ipykernel)",
   "language": "python",
   "name": "python3"
  },
  "language_info": {
   "codemirror_mode": {
    "name": "ipython",
    "version": 3
   },
   "file_extension": ".py",
   "mimetype": "text/x-python",
   "name": "python",
   "nbconvert_exporter": "python",
   "pygments_lexer": "ipython3",
   "version": "3.12.4"
  }
 },
 "nbformat": 4,
 "nbformat_minor": 4
}
