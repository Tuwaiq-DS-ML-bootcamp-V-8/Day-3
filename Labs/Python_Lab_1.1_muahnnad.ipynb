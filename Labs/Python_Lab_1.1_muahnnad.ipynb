{
 "cells": [
  {
   "cell_type": "markdown",
   "metadata": {},
   "source": [
    "# Python_Lab_1.1\n"
   ]
  },
  {
   "cell_type": "markdown",
   "metadata": {},
   "source": [
    "### Task 1\n",
    "1. Print a welcome message.\n",
    "2. Create variables to store the following details:\n",
    "    - Your name (string)\n",
    "    - Your age (integer)\n",
    "    - Your height (float)\n",
    "    - Whether you are a student (boolean)\n",
    "3. Print these details.\n"
   ]
  },
  {
   "cell_type": "code",
   "execution_count": null,
   "metadata": {},
   "outputs": [],
   "source": [
    "# write your code here ^_^\n",
    "print(\"welcome to my app\")\n",
    "name = 'muhannad'\n",
    "age = 24\n",
    "height = 173.5\n",
    "am_i_student = False\n",
    "print(\"my name is:\" ,name)\n",
    "print(\"my age is:\" , age)\n",
    "print(\"my height is:\" , height)\n",
    "print(\"Am i student :\" , am_i_student)"
   ]
  },
  {
   "cell_type": "markdown",
   "metadata": {},
   "source": [
    "### Task 2\n",
    " 1. Create a list of 5 favorite fruits.\n",
    " 2. Create a list with the price of each fruit.\n",
    " 3. Print the data types of these lists."
   ]
  },
  {
   "cell_type": "code",
   "execution_count": null,
   "metadata": {},
   "outputs": [],
   "source": [
    "# write your code here ^_^\n",
    "fruits = [\"orange\",\"apple\",\"banana\",\"kiwi\",\"grapes\"]\n",
    "prices = [10, 14, 17, 9, 8]\n",
    "\n",
    "print(type(fruits))\n",
    "print(type(prices))"
   ]
  },
  {
   "cell_type": "markdown",
   "metadata": {},
   "source": [
    "### Task 3\n",
    "1. Print the names of all fruits using a loop.\n",
    "2. Using a while loop and input built-in function, do the following:\n",
    "    - Ask the the user : \"what is the product of 7 * 24 ?\"\n",
    "    - check if the answer is right then exit the loop and print \"You answered this Question correctly\".\n",
    "    - if the answer is wrong, then print \"Your Answer is wrong try again..\" and show the user the question again.\n",
    "3. Build a program that takes one defined variable of type int, then it prints out the result formatted like the following pattern (if we give it 5 for example):\n",
    "\n",
    "    5 4 3 2 1\n",
    "\n",
    "    4 3 2 1\n",
    "\n",
    "    3 2 1\n",
    "\n",
    "    2 1\n",
    "    \n",
    "    1"
   ]
  },
  {
   "cell_type": "code",
   "execution_count": 7,
   "metadata": {},
   "outputs": [
    {
     "name": "stdout",
     "output_type": "stream",
     "text": [
      "5 4 3 2 1 \n",
      "4 3 2 1 \n",
      "3 2 1 \n",
      "2 1 \n",
      "1 \n"
     ]
    }
   ],
   "source": [
    "# write your code here ^_^\n",
    "##first part\n",
    "fruits = [\"orange\",\"apple\",\"banana\",\"kiwi\",\"grapes\"]\n",
    "for x in fruits:\n",
    "   print(x)\n",
    "\n",
    "##second part\n",
    "correct_answer = 7 * 24\n",
    "user_answer = None\n",
    "\n",
    "while user_answer != correct_answer:\n",
    "    user_answer = int(input(\"What is the product of 7 * 24?\"))\n",
    "    if user_answer == correct_answer:\n",
    "        print(\"your answer correct\")\n",
    "    else:\n",
    "        print(\"your answer wrong try again\")\n",
    "##third part\n",
    "n = int(input(\"Enter an integer: \"))\n",
    "\n",
    "for i in range(n, 0, -1):\n",
    "    print(\" \" * (n - i), end=\"\")\n",
    "    print(\" \".join(str(j) for j in range(i, 0, -1)))"
   ]
  },
  {
   "cell_type": "markdown",
   "metadata": {},
   "source": [
    "### Task 4\n",
    "You want to recommend a movie to a friend based on the rating and popularity. To accomplish this do the following:\n",
    "\n",
    "- Create a variable for the movie (choose any movie you like).\n",
    "- Create a variable of type int to hold the rating of the movie out of 5. Give this movie rate = 3\n",
    "- Create a popularity score of type float, let it be 72.65\n",
    "- Using an if statement:\n",
    "    - Check if the movie rating is 4 or greater and the popularity is greater than 80, print \"Highly recommended\".\n",
    "    - Else if the movie rating is 3 or greater and the popularity is greater than 70, print \"I recommended it, It is good\".\n",
    "    - Else if the movie rating is 2 or less and the popularity is greater than 60, print \"You should check it out!\".\n",
    "    - Else the movie rating is 2 or less and the popularity is less than 50, print \"Don't watch it, It is a waste of time\"."
   ]
  },
  {
   "cell_type": "code",
   "execution_count": null,
   "metadata": {},
   "outputs": [],
   "source": [
    "# write your code here ^_^\n",
    "movie = \"fast and furious\"\n",
    "\n",
    "rating = 4\n",
    "\n",
    "popularity = 85.2\n",
    "\n",
    "if rating >= 4 and popularity > 80:\n",
    "  print(\"Highly recommended\")\n",
    "elif rating >= 3 and popularity > 70:\n",
    "  print(\"I recommended it, It is good\")\n",
    "elif rating <= 2 and popularity > 60:\n",
    "  print(\"You should check it out!\")\n",
    "else:\n",
    "  print(\"Don't watch it, It is a waste of time\")"
   ]
  }
 ],
 "metadata": {
  "kernelspec": {
   "display_name": "Python 3",
   "language": "python",
   "name": "python3"
  },
  "language_info": {
   "codemirror_mode": {
    "name": "ipython",
    "version": 3
   },
   "file_extension": ".py",
   "mimetype": "text/x-python",
   "name": "python",
   "nbconvert_exporter": "python",
   "pygments_lexer": "ipython3",
   "version": "3.9.12"
  }
 },
 "nbformat": 4,
 "nbformat_minor": 2
}
