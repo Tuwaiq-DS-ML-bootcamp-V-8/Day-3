{
 "cells": [
  {
   "cell_type": "markdown",
   "metadata": {},
   "source": [
    "# Python_Lab_1.2"
   ]
  },
  {
   "cell_type": "markdown",
   "metadata": {},
   "source": [
    "### Task 1: \n",
    "1. Create a tuple with the following details:\n",
    "    - Your favorite movie (string)\n",
    "    - The year it was released (integer)\n",
    "    - Its rating out of 10 (float)\n",
    "    - Whether you have watched it (boolean)\n",
    "2. Print the detailes"
   ]
  },
  {
   "cell_type": "code",
   "execution_count": 10,
   "metadata": {},
   "outputs": [
    {
     "name": "stdout",
     "output_type": "stream",
     "text": [
      "('Inglorious Basterds', 2009, 8.4, True)\n"
     ]
    }
   ],
   "source": [
    "# write your code here ^_^\n",
    "movie = ('Inglorious Basterds', 2009, 8.4, True)\n",
    "print(movie)"
   ]
  },
  {
   "cell_type": "markdown",
   "metadata": {},
   "source": [
    "### Task 2:\n",
    "1. Create a set of 5 favorite colors.\n",
    "2. Print all the colors"
   ]
  },
  {
   "cell_type": "code",
   "execution_count": 11,
   "metadata": {},
   "outputs": [
    {
     "name": "stdout",
     "output_type": "stream",
     "text": [
      "{'red', 'blue', 'yellow', 'green', 'purple'}\n"
     ]
    }
   ],
   "source": [
    "# write your code here ^_^\n",
    "colors = {'red', 'green', 'blue', 'yellow', 'purple'}\n",
    "print(colors)\n"
   ]
  },
  {
   "cell_type": "markdown",
   "metadata": {},
   "source": [
    "### Task 3:\n",
    "1. Create a dictionary to store information about 3 friends (name as key and a tuple with age and favorite hobby as value).\n",
    "2. Print the details of all friends."
   ]
  },
  {
   "cell_type": "code",
   "execution_count": 7,
   "metadata": {},
   "outputs": [
    {
     "name": "stdout",
     "output_type": "stream",
     "text": [
      "Abdulaziz is 22 years old and loves Football\n",
      "Mohammed is 23 years old and loves Basketball\n",
      "Ali is 21 years old and loves Tennis\n"
     ]
    }
   ],
   "source": [
    "# write your code here ^_^\n",
    "friends = {\n",
    "    'Abdulaziz': (22, 'Football'),\n",
    "    'Mohammed': (23, 'Basketball'),\n",
    "    'Ali': (21, 'Tennis')\n",
    "    }\n",
    "\n",
    "for name, info in friends.items():\n",
    "    print(f'{name} is {info[0]} years old and loves {info[1]}')"
   ]
  },
  {
   "cell_type": "markdown",
   "metadata": {},
   "source": [
    "### Task 4:\n",
    "1. Check if you have watched the movie and print an appropriate message.\n",
    "1. Check if a specific color is in your favorite colors set and print its availability status."
   ]
  },
  {
   "cell_type": "code",
   "execution_count": 16,
   "metadata": {},
   "outputs": [
    {
     "name": "stdout",
     "output_type": "stream",
     "text": [
      "I've watched Inglorious Basterds, and it's a great movie\n",
      "Blue is one of the colors\n"
     ]
    }
   ],
   "source": [
    "# write your code here ^_^\n",
    "#Task 4.1\n",
    "if movie[3]:\n",
    "    print(f'I\\'ve watched {movie[0]}, and it\\'s a great movie')\n",
    "else:\n",
    "    print(f'I haven\\'t watched {movie[0]} yet')\n",
    "#---------------------------------------------\n",
    "#Task 4.2\n",
    "if 'blue' in colors:\n",
    "    print('Blue is one of the colors')\n",
    "else:\n",
    "    print('Blue is not one of the colors')"
   ]
  },
  {
   "cell_type": "markdown",
   "metadata": {},
   "source": []
  }
 ],
 "metadata": {
  "kernelspec": {
   "display_name": "Python 3",
   "language": "python",
   "name": "python3"
  },
  "language_info": {
   "codemirror_mode": {
    "name": "ipython",
    "version": 3
   },
   "file_extension": ".py",
   "mimetype": "text/x-python",
   "name": "python",
   "nbconvert_exporter": "python",
   "pygments_lexer": "ipython3",
   "version": "3.11.9"
  }
 },
 "nbformat": 4,
 "nbformat_minor": 2
}
