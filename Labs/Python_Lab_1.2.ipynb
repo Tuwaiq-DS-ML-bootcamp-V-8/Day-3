{
 "cells": [
  {
   "cell_type": "markdown",
   "metadata": {},
   "source": [
    "# Python_Lab_1.2"
   ]
  },
  {
   "cell_type": "markdown",
   "metadata": {},
   "source": [
    "### Task 1: \n",
    "1. Create a tuple with the following details:\n",
    "    - Your favorite movie (string)\n",
    "    - The year it was released (integer)\n",
    "    - Its rating out of 10 (float)\n",
    "    - Whether you have watched it (boolean)\n",
    "2. Print the detailes"
   ]
  },
  {
   "cell_type": "code",
   "execution_count": 9,
   "metadata": {},
   "outputs": [
    {
     "name": "stdout",
     "output_type": "stream",
     "text": [
      "('Inception', 2010, 8.8, True)\n"
     ]
    }
   ],
   "source": [
    "# Creating the tuple with the given details\n",
    "favorite_movie = (\"Inception\", 2010, 8.8, True)\n",
    "\n",
    "# Printing the details of the tuple\n",
    "print(favorite_movie)"
   ]
  },
  {
   "cell_type": "markdown",
   "metadata": {},
   "source": [
    "### Task 2:\n",
    "1. Create a set of 5 favorite colors.\n",
    "2. Print all the colors"
   ]
  },
  {
   "cell_type": "code",
   "execution_count": 10,
   "metadata": {},
   "outputs": [
    {
     "name": "stdout",
     "output_type": "stream",
     "text": [
      "{'Purple', 'Red', 'Green', 'Black', 'Blue'}\n"
     ]
    }
   ],
   "source": [
    "# Creating a set of 5 favorite colors\n",
    "favorite_colors = {\"Red\", \"Purple\", \"Green\", \"Black\", \"Blue\"}\n",
    "\n",
    "# Printing all the colors in the set\n",
    "print(favorite_colors)"
   ]
  },
  {
   "cell_type": "markdown",
   "metadata": {},
   "source": [
    "### Task 3:\n",
    "1. Create a dictionary to store information about 3 friends (name as key and a tuple with age and favorite hobby as value).\n",
    "2. Print the details of all friends."
   ]
  },
  {
   "cell_type": "code",
   "execution_count": 11,
   "metadata": {},
   "outputs": [
    {
     "name": "stdout",
     "output_type": "stream",
     "text": [
      "Faisal is 22 years old and loves Football.\n",
      "Ahmed is 23 years old and loves Reading.\n",
      "Mohammed is 22 years old and loves Gaming.\n"
     ]
    }
   ],
   "source": [
    "# Creating a dictionary to store information about 3 friends\n",
    "friends_info = {\n",
    "    \"Faisal\": (22, \"Football\"),\n",
    "    \"Ahmed\": (23, \"Reading\"),\n",
    "    \"Mohammed\": (22, \"Gaming\"),\n",
    "}\n",
    "\n",
    "# Printing the details of all friends\n",
    "for name, (age, hobby) in friends_info.items():\n",
    "    print(f\"{name} is {age} years old and loves {hobby}.\")"
   ]
  },
  {
   "cell_type": "markdown",
   "metadata": {},
   "source": [
    "### Task 4:\n",
    "1. Check if you have watched the movie and print an appropriate message.\n",
    "1. Check if a specific color is in your favorite colors set and print its availability status."
   ]
  },
  {
   "cell_type": "code",
   "execution_count": 12,
   "metadata": {},
   "outputs": [
    {
     "name": "stdout",
     "output_type": "stream",
     "text": [
      "You have watched Inception.\n",
      "blue is not in your favorite colors.\n"
     ]
    }
   ],
   "source": [
    "# Checking if the movie has been watched and printing an appropriate message\n",
    "if favorite_movie[3]:  # Accessing the 'watched' status\n",
    "    print(f\"You have watched {favorite_movie[0]}.\")\n",
    "else:\n",
    "    print(f\"You have not watched {favorite_movie[0]}.\")\n",
    "\n",
    "# Checking for a specific color (e.g., \"blue\") in the favorite colors set\n",
    "specific_color = \"blue\"\n",
    "\n",
    "if specific_color in favorite_colors:\n",
    "    print(f\"{specific_color} is in your favorite colors.\")\n",
    "else:\n",
    "    print(f\"{specific_color} is not in your favorite colors.\")\n"
   ]
  },
  {
   "cell_type": "markdown",
   "metadata": {},
   "source": []
  }
 ],
 "metadata": {
  "kernelspec": {
   "display_name": "base",
   "language": "python",
   "name": "python3"
  },
  "language_info": {
   "codemirror_mode": {
    "name": "ipython",
    "version": 3
   },
   "file_extension": ".py",
   "mimetype": "text/x-python",
   "name": "python",
   "nbconvert_exporter": "python",
   "pygments_lexer": "ipython3",
   "version": "3.11.5"
  }
 },
 "nbformat": 4,
 "nbformat_minor": 2
}
