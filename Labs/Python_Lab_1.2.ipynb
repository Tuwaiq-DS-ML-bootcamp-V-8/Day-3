{
 "cells": [
  {
   "cell_type": "markdown",
   "metadata": {},
   "source": [
    "# Python_Lab_1.2"
   ]
  },
  {
   "cell_type": "markdown",
   "metadata": {},
   "source": [
    "### Task 1: \n",
    "1. Create a tuple with the following details:\n",
    "    - Your favorite movie (string)\n",
    "    - The year it was released (integer)\n",
    "    - Its rating out of 10 (float)\n",
    "    - Whether you have watched it (boolean)\n",
    "2. Print the detailes"
   ]
  },
  {
   "cell_type": "code",
   "execution_count": null,
   "metadata": {},
   "outputs": [],
   "source": [
    "favorite_movie = (\"Pride and Prejudice\", 2005, 7.8, True)\n",
    "\n",
    "print(\"Favorite Movie Details:\")\n",
    "print(f\"Movie: {favorite_movie[0]}\")\n",
    "print(f\"Year Released: {favorite_movie[1]}\")\n",
    "print(f\"Rating: {favorite_movie[2]}\")\n",
    "print(f\"Watched: {favorite_movie[3]}\")"
   ]
  },
  {
   "cell_type": "markdown",
   "metadata": {},
   "source": [
    "### Task 2:\n",
    "1. Create a set of 5 favorite colors.\n",
    "2. Print all the colors"
   ]
  },
  {
   "cell_type": "code",
   "execution_count": null,
   "metadata": {},
   "outputs": [],
   "source": [
    "favorite_colors = {\"Beige\", \"Green\", \"Pink\", \"Blue\", \"White\"}\n",
    "\n",
    "print(\"My Favorite Colors:\")\n",
    "for color in favorite_colors:\n",
    "    print(color)"
   ]
  },
  {
   "cell_type": "markdown",
   "metadata": {},
   "source": [
    "### Task 3:\n",
    "1. Create a dictionary to store information about 3 friends (name as key and a tuple with age and favorite hobby as value).\n",
    "2. Print the details of all friends."
   ]
  },
  {
   "cell_type": "code",
   "execution_count": null,
   "metadata": {},
   "outputs": [],
   "source": [
    "friends_info = {\n",
    "    \"Rahaf\": (24, \"Exercising\"),\n",
    "    \"Manar\": (23, \"Reading\"),\n",
    "    \"Reem\": (23, \"Swimming\")\n",
    "}\n",
    "print(\"Friends Information:\")\n",
    "for name, details in friends_info.items():\n",
    "    print(f\"Name: {name}, Age: {details[0]}, Favorite Hobby: {details[1]}\")"
   ]
  },
  {
   "cell_type": "markdown",
   "metadata": {},
   "source": [
    "### Task 4:\n",
    "1. Check if you have watched the movie and print an appropriate message.\n",
    "1. Check if a specific color is in your favorite colors set and print its availability status."
   ]
  },
  {
   "cell_type": "code",
   "execution_count": null,
   "metadata": {},
   "outputs": [],
   "source": []
  },
  {
   "cell_type": "markdown",
   "metadata": {},
   "source": []
  }
 ],
 "metadata": {
  "kernelspec": {
   "display_name": "Python 3 (ipykernel)",
   "language": "python",
   "name": "python3"
  },
  "language_info": {
   "codemirror_mode": {
    "name": "ipython",
    "version": 3
   },
   "file_extension": ".py",
   "mimetype": "text/x-python",
   "name": "python",
   "nbconvert_exporter": "python",
   "pygments_lexer": "ipython3",
   "version": "3.12.4"
  }
 },
 "nbformat": 4,
 "nbformat_minor": 4
}
