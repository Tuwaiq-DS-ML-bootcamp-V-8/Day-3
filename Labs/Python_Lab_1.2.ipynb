{
 "cells": [
  {
   "cell_type": "markdown",
   "metadata": {},
   "source": [
    "# Python_Lab_1.2"
   ]
  },
  {
   "cell_type": "markdown",
   "metadata": {},
   "source": [
    "### Task 1: \n",
    "1. Create a tuple with the following details:\n",
    "    - Your favorite movie (string)\n",
    "    - The year it was released (integer)\n",
    "    - Its rating out of 10 (float)\n",
    "    - Whether you have watched it (boolean)\n",
    "2. Print the detailes"
   ]
  },
  {
   "cell_type": "code",
   "execution_count": 3,
   "metadata": {},
   "outputs": [
    {
     "name": "stdout",
     "output_type": "stream",
     "text": [
      "Favorite Movie: Inception\n",
      "Year Released: 2010\n",
      "Rating: 8.8 / 10\n",
      "Have I watched it?: True\n"
     ]
    }
   ],
   "source": [
    "# Step 1: Create a tuple with the specified details\n",
    "favorite_movie = (\"Inception\", 2010, 8.8, True)\n",
    "\n",
    "# Step 2: Print the details of the tuple\n",
    "print(f\"Favorite Movie: {favorite_movie[0]}\")\n",
    "print(f\"Year Released: {favorite_movie[1]}\")\n",
    "print(f\"Rating: {favorite_movie[2]} / 10\")\n",
    "print(f\"Have I watched it?: {favorite_movie[3]}\")\n"
   ]
  },
  {
   "cell_type": "markdown",
   "metadata": {},
   "source": [
    "### Task 2:\n",
    "1. Create a set of 5 favorite colors.\n",
    "2. Print all the colors"
   ]
  },
  {
   "cell_type": "code",
   "execution_count": 4,
   "metadata": {},
   "outputs": [
    {
     "name": "stdout",
     "output_type": "stream",
     "text": [
      "Red\n",
      "Purple\n",
      "Green\n",
      "Yellow\n",
      "Blue\n"
     ]
    }
   ],
   "source": [
    "# Step 1: Create a set of 5 favorite colors\n",
    "favorite_colors = {\"Blue\", \"Green\", \"Red\", \"Yellow\", \"Purple\"}\n",
    "\n",
    "# Step 2: Print all the colors\n",
    "for color in favorite_colors:\n",
    "    print(color)\n"
   ]
  },
  {
   "cell_type": "markdown",
   "metadata": {},
   "source": [
    "### Task 3:\n",
    "1. Create a dictionary to store information about 3 friends (name as key and a tuple with age and favorite hobby as value).\n",
    "2. Print the details of all friends."
   ]
  },
  {
   "cell_type": "code",
   "execution_count": 5,
   "metadata": {},
   "outputs": [
    {
     "name": "stdout",
     "output_type": "stream",
     "text": [
      "Friend: Ahmad, Age: 21, Favorite Hobby: Reading\n",
      "Friend: Ali, Age: 22, Favorite Hobby: Painting\n",
      "Friend: Omar, Age: 28, Favorite Hobby: Cycling\n"
     ]
    }
   ],
   "source": [
    "# Step 1: Create a dictionary with friends' information\n",
    "friends_info = {\n",
    "    \"Ahmad\": (21, \"Reading\"),\n",
    "    \"Ali\": (22, \"Painting\"),\n",
    "    \"Omar\": (28, \"Cycling\")\n",
    "}\n",
    "\n",
    "# Step 2: Print the details of all friends\n",
    "for name, details in friends_info.items():\n",
    "    age, hobby = details\n",
    "    print(f\"Friend: {name}, Age: {age}, Favorite Hobby: {hobby}\")\n"
   ]
  },
  {
   "cell_type": "markdown",
   "metadata": {},
   "source": [
    "### Task 4:\n",
    "1. Check if you have watched the movie and print an appropriate message.\n",
    "1. Check if a specific color is in your favorite colors set and print its availability status."
   ]
  },
  {
   "cell_type": "code",
   "execution_count": 6,
   "metadata": {},
   "outputs": [
    {
     "name": "stdout",
     "output_type": "stream",
     "text": [
      "You have watched Inception.\n",
      "Blue is in your favorite colors.\n"
     ]
    }
   ],
   "source": [
    "# Tuple with movie details\n",
    "favorite_movie = (\"Inception\", 2010, 8.8, True)\n",
    "\n",
    "# Check if the movie has been watched\n",
    "if favorite_movie[3]:  # favorite_movie[3] is the boolean value for \"watched\"\n",
    "    print(f\"You have watched {favorite_movie[0]}.\")\n",
    "else:\n",
    "    print(f\"You have not watched {favorite_movie[0]} yet.\")\n",
    "\n",
    "# Set of favorite colors\n",
    "favorite_colors = {\"Blue\", \"Green\", \"Red\", \"Yellow\", \"Purple\"}\n",
    "\n",
    "# Check if a specific color is in the set\n",
    "color_to_check = \"Blue\"\n",
    "\n",
    "if color_to_check in favorite_colors:\n",
    "    print(f\"{color_to_check} is in your favorite colors.\")\n",
    "else:\n",
    "    print(f\"{color_to_check} is not in your favorite colors.\")\n"
   ]
  },
  {
   "cell_type": "markdown",
   "metadata": {},
   "source": []
  }
 ],
 "metadata": {
  "kernelspec": {
   "display_name": "Python 3",
   "language": "python",
   "name": "python3"
  },
  "language_info": {
   "codemirror_mode": {
    "name": "ipython",
    "version": 3
   },
   "file_extension": ".py",
   "mimetype": "text/x-python",
   "name": "python",
   "nbconvert_exporter": "python",
   "pygments_lexer": "ipython3",
   "version": "3.12.0"
  }
 },
 "nbformat": 4,
 "nbformat_minor": 2
}
