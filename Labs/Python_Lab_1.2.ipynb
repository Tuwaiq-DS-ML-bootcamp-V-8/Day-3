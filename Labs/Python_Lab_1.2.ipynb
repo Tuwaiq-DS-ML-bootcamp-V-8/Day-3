{
 "cells": [
  {
   "cell_type": "markdown",
   "metadata": {},
   "source": [
    "# Python_Lab_1.2"
   ]
  },
  {
   "cell_type": "markdown",
   "metadata": {},
   "source": [
    "### Task 1: \n",
    "1. Create a tuple with the following details:\n",
    "    - Your favorite movie (string)\n",
    "    - The year it was released (integer)\n",
    "    - Its rating out of 10 (float)\n",
    "    - Whether you have watched it (boolean)\n",
    "2. Print the detailes"
   ]
  },
  {
   "cell_type": "code",
   "execution_count": 1,
   "metadata": {},
   "outputs": [
    {
     "name": "stdout",
     "output_type": "stream",
     "text": [
      "('NeverLetGo', 2024, 5.7, True)\n"
     ]
    }
   ],
   "source": [
    "movie_details=('NeverLetGo',2024,5.7,True)\n",
    "print(movie_details)"
   ]
  },
  {
   "cell_type": "markdown",
   "metadata": {},
   "source": [
    "### Task 2:\n",
    "1. Create a set of 5 favorite colors.\n",
    "2. Print all the colors"
   ]
  },
  {
   "cell_type": "code",
   "execution_count": 2,
   "metadata": {},
   "outputs": [
    {
     "name": "stdout",
     "output_type": "stream",
     "text": [
      "blue\n",
      "black\n",
      "orange\n",
      "pink\n",
      "yellow\n"
     ]
    }
   ],
   "source": [
    "# set of 5 favorite colors\n",
    "favorite_colors={'pink','blue','orange','yellow','black'}\n",
    "# use for loop to print colors in the set\n",
    "for i in favorite_colors:\n",
    "    print(i)"
   ]
  },
  {
   "cell_type": "markdown",
   "metadata": {},
   "source": [
    "### Task 3:\n",
    "1. Create a dictionary to store information about 3 friends (name as key and a tuple with age and favorite hobby as value).\n",
    "2. Print the details of all friends."
   ]
  },
  {
   "cell_type": "code",
   "execution_count": 3,
   "metadata": {},
   "outputs": [
    {
     "name": "stdout",
     "output_type": "stream",
     "text": [
      "noha (18, 'reading')\n",
      "sara (22, 'swimming')\n",
      "rema (23, 'programming')\n"
     ]
    }
   ],
   "source": [
    "# friend_info is a dictionary contain name as key and tuple with age and favorite hobby as value\n",
    "friends_info={'noha':(18,'reading'),'sara':(22,'swimming'),'rema':(23,'programming')}\n",
    "\n",
    "# used for loop to get the information of each friend \n",
    "for k,v in friends_info.items():\n",
    "    # print key and its value that contain which is tuple contains age and hobby\n",
    "    print(k , v)"
   ]
  },
  {
   "cell_type": "markdown",
   "metadata": {},
   "source": [
    "### Task 4:\n",
    "1. Check if you have watched the movie and print an appropriate message.\n",
    "1. Check if a specific color is in your favorite colors set and print its availability status."
   ]
  },
  {
   "cell_type": "code",
   "execution_count": 4,
   "metadata": {},
   "outputs": [
    {
     "name": "stdout",
     "output_type": "stream",
     "text": [
      "i watched the NeverLetGo movie\n",
      "\n"
     ]
    },
    {
     "name": "stdin",
     "output_type": "stream",
     "text": [
      "enter color please:  pink\n"
     ]
    },
    {
     "name": "stdout",
     "output_type": "stream",
     "text": [
      "pink color is available in the colors set\n"
     ]
    }
   ],
   "source": [
    "# used the if statement to check if I have watched the movie. note movie detail is in the tuple called movie_details\n",
    "if True == movie_details[3]:\n",
    "    # Print message below if true\n",
    "    print('i watched the',movie_details[0],'movie')\n",
    "# otherwise will execute else block\n",
    "else:\n",
    "    print('i did not watch the',movie_details[0],'movie')\n",
    "print()\n",
    "# ask the user to enter the color\n",
    "color = input('enter color please: ')\n",
    "# check if color exists in the set named favorate_color\n",
    "if color.lower() in favorite_colors:\n",
    "    print(color,'color is available in the colors set')\n",
    "else:\n",
    "    print(color,'color is not available in the colors set')\n",
    "    "
   ]
  }
 ],
 "metadata": {
  "kernelspec": {
   "display_name": "Python 3 (ipykernel)",
   "language": "python",
   "name": "python3"
  },
  "language_info": {
   "codemirror_mode": {
    "name": "ipython",
    "version": 3
   },
   "file_extension": ".py",
   "mimetype": "text/x-python",
   "name": "python",
   "nbconvert_exporter": "python",
   "pygments_lexer": "ipython3",
   "version": "3.11.7"
  }
 },
 "nbformat": 4,
 "nbformat_minor": 4
}
