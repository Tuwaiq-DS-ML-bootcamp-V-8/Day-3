{
 "cells": [
  {
   "cell_type": "markdown",
   "metadata": {},
   "source": [
    "# Python_Lab_1.2"
   ]
  },
  {
   "cell_type": "markdown",
   "metadata": {},
   "source": [
    "### Task 1: \n",
    "1. Create a tuple with the following details:\n",
    "    - Your favorite movie (string)\n",
    "    - The year it was released (integer)\n",
    "    - Its rating out of 10 (float)\n",
    "    - Whether you have watched it (boolean)\n",
    "2. Print the detailes"
   ]
  },
  {
   "cell_type": "code",
   "execution_count": 6,
   "metadata": {},
   "outputs": [
    {
     "name": "stdout",
     "output_type": "stream",
     "text": [
      "My Favorit Movie is:The Equalizer\n",
      "Year Released:2014\n",
      "Rating:7.2\n",
      "Have you seen the movie or not? True\n"
     ]
    }
   ],
   "source": [
    "# write your code here ^_^\n",
    "fav_movie = (\"The Equalizer\",2014,7.2,True)\n",
    "print(f\"My Favorit Movie is:{fav_movie[0]}\")\n",
    "print(f\"Year Released:{fav_movie[1]}\")\n",
    "print(f\"Rating:{fav_movie[2]}\")\n",
    "print(f\"Have you seen the movie or not? {fav_movie[3]}\")"
   ]
  },
  {
   "cell_type": "markdown",
   "metadata": {},
   "source": [
    "### Task 2:\n",
    "1. Create a set of 5 favorite colors.\n",
    "2. Print all the colors"
   ]
  },
  {
   "cell_type": "code",
   "execution_count": 20,
   "metadata": {},
   "outputs": [
    {
     "name": "stdout",
     "output_type": "stream",
     "text": [
      "Blue\n",
      "White\n",
      "Red\n",
      "Grey\n",
      "Black\n"
     ]
    }
   ],
   "source": [
    "# write your code here ^_^\n",
    "fav_color = {\"Blue\",\"Grey\",\"Black\",\"Red\",\"White\"}\n",
    "for color in fav_color:\n",
    "    print(color)\n",
    "\n"
   ]
  },
  {
   "cell_type": "markdown",
   "metadata": {},
   "source": [
    "### Task 3:\n",
    "1. Create a dictionary to store information about 3 friends (name as key and a tuple with age and favorite hobby as value).\n",
    "2. Print the details of all friends."
   ]
  },
  {
   "cell_type": "code",
   "execution_count": 52,
   "metadata": {},
   "outputs": [
    {
     "name": "stdout",
     "output_type": "stream",
     "text": [
      "Name: Sami\n",
      "Age: 19\n",
      "Favorite Hobby: Swimming\n",
      "\n",
      "Name: Khalid\n",
      "Age: 32\n",
      "Favorite Hobby: Lifting weights\n",
      "\n",
      "Name: Mshari\n",
      "Age: 22\n",
      "Favorite Hobby: Drifting\n",
      "\n"
     ]
    }
   ],
   "source": [
    "# write your code here ^_^\n",
    "info_dict = {\n",
    "    \"Sami\":(19,\"Swimming\"),\n",
    "    \"Khalid\":(32,\"Lifting weights\"),\n",
    "    \"Mshari\":(22,\"Drifting\")}\n",
    "\n",
    "for i,j in info_dict.items():\n",
    "    print(f\"Name: {i}\")\n",
    "    print(\"Age:\", j[0])\n",
    "    print(f\"Favorite Hobby: {j[1]}\")\n",
    "    print()"
   ]
  },
  {
   "cell_type": "markdown",
   "metadata": {},
   "source": [
    "### Task 4:\n",
    "1. Check if you have watched the movie and print an appropriate message.\n",
    "1. Check if a specific color is in your favorite colors set and print its availability status."
   ]
  },
  {
   "cell_type": "code",
   "execution_count": 60,
   "metadata": {},
   "outputs": [
    {
     "name": "stdout",
     "output_type": "stream",
     "text": [
      "Yes, I watched the movie The Equalizer\n",
      "Black is in my favorite colors set.\n"
     ]
    }
   ],
   "source": [
    "# write your code here ^_^\n",
    "\n",
    "fav_movie = (\"The Equalizer\", 2014, 7.2, True)\n",
    "fav_color = {\"Blue\", \"Grey\", \"Black\", \"Red\", \"White\"}\n",
    "\n",
    "if fav_movie[3]:\n",
    "    print(f\"Yes, I watched the movie {fav_movie[0]}\")\n",
    "else:\n",
    "    print(f\"I didn't watched the {fav_movie[0]}\")\n",
    "\n",
    "specific_color = \"Black\"\n",
    "if specific_color in fav_color:\n",
    "    print(f\"{specific_color} is in my favorite colors set.\")\n",
    "else:\n",
    "    print(f\"{specific_color} is one of my favorite colors.\")"
   ]
  },
  {
   "cell_type": "markdown",
   "metadata": {},
   "source": []
  }
 ],
 "metadata": {
  "kernelspec": {
   "display_name": "Python 3 (ipykernel)",
   "language": "python",
   "name": "python3"
  },
  "language_info": {
   "codemirror_mode": {
    "name": "ipython",
    "version": 3
   },
   "file_extension": ".py",
   "mimetype": "text/x-python",
   "name": "python",
   "nbconvert_exporter": "python",
   "pygments_lexer": "ipython3",
   "version": "3.12.4"
  }
 },
 "nbformat": 4,
 "nbformat_minor": 4
}
