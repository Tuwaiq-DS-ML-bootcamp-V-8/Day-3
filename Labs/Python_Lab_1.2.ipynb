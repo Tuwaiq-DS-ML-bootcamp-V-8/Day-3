{
 "cells": [
  {
   "cell_type": "markdown",
   "metadata": {},
   "source": [
    "# Python_Lab_1.2"
   ]
  },
  {
   "cell_type": "markdown",
   "metadata": {},
   "source": [
    "### Task 1: \n",
    "1. Create a tuple with the following details:\n",
    "    - Your favorite movie (string)\n",
    "    - The year it was released (integer)\n",
    "    - Its rating out of 10 (float)\n",
    "    - Whether you have watched it (boolean)\n",
    "2. Print the detailes"
   ]
  },
  {
   "cell_type": "code",
   "execution_count": 2,
   "metadata": {},
   "outputs": [
    {
     "name": "stdout",
     "output_type": "stream",
     "text": [
      "movie name:  Shutter Island\n",
      "year released:  2010\n",
      "rating out of 10:  9.2\n",
      "have you watched it?:  True\n"
     ]
    }
   ],
   "source": [
    "# write your code here ^_^\n",
    "movie = (\"Shutter Island\", 2010, 9.2, True)\n",
    "\n",
    "print(\"movie name: \", movie[0])\n",
    "print(\"year released: \", movie[1])\n",
    "print(\"rating out of 10: \", movie[2])\n",
    "print(\"have you watched it?: \", movie[3])"
   ]
  },
  {
   "cell_type": "markdown",
   "metadata": {},
   "source": [
    "### Task 2:\n",
    "1. Create a set of 5 favorite colors.\n",
    "2. Print all the colors"
   ]
  },
  {
   "cell_type": "code",
   "execution_count": 3,
   "metadata": {},
   "outputs": [
    {
     "name": "stdout",
     "output_type": "stream",
     "text": [
      "my favorite colors: \n",
      "black\n",
      "Blue\n",
      "Pink\n",
      "grey\n",
      "red\n"
     ]
    }
   ],
   "source": [
    "# write your code here ^_^\n",
    "colors = {'Blue', 'black', 'red', 'Pink', 'grey'}\n",
    "print ('my favorite colors: ')\n",
    "for c in colors:\n",
    "    print(c)"
   ]
  },
  {
   "cell_type": "markdown",
   "metadata": {},
   "source": [
    "### Task 3:\n",
    "1. Create a dictionary to store information about 3 friends (name as key and a tuple with age and favorite hobby as value).\n",
    "2. Print the details of all friends."
   ]
  },
  {
   "cell_type": "code",
   "execution_count": 11,
   "metadata": {},
   "outputs": [
    {
     "name": "stdout",
     "output_type": "stream",
     "text": [
      "My friends are: \n",
      "Maram , age and hobby: (25, 'coding')\n",
      "Raghad , age and hobby: (20, 'music')\n",
      "Shahad , age and hobby: (25, 'tennis')\n"
     ]
    }
   ],
   "source": [
    "# write your code here ^_^\n",
    "friends= {\"Maram\": (25, \"coding\"), \n",
    "          \"Raghad\": (20, \"music\"),\n",
    "          \"Shahad\": (25, \"tennis\") }\n",
    "print(\"My friends are: \")\n",
    "for k,v in friends.items():\n",
    "    print(k,\", age and hobby:\", v)"
   ]
  },
  {
   "cell_type": "markdown",
   "metadata": {},
   "source": [
    "### Task 4:\n",
    "1. Check if you have watched the movie and print an appropriate message.\n",
    "1. Check if a specific color is in your favorite colors set and print its availability status."
   ]
  },
  {
   "cell_type": "code",
   "execution_count": 27,
   "metadata": {},
   "outputs": [
    {
     "name": "stdout",
     "output_type": "stream",
     "text": [
      "you have watched this movie\n",
      "this is one of your favorite colors, it is available\n"
     ]
    }
   ],
   "source": [
    "# write your code here ^_^\n",
    "def fav_movie(watched):\n",
    "    if movie[0] == watched:\n",
    "        return \"you have watched this movie\"\n",
    "    else:\n",
    "        return \"you did not watch this movie \"\n",
    "    \n",
    "print(fav_movie(\"Shutter Island\"))\n",
    "\n",
    "def fav_color(color):\n",
    "\n",
    "    if color in colors:\n",
    "        return \"this is one of your favorite colors, it is available\"\n",
    "    else:\n",
    "        return \"this is not one of your favorite colors, it is not available\"\n",
    "    \n",
    "print(fav_color(\"black\"))\n",
    "\n",
    "\n"
   ]
  },
  {
   "cell_type": "markdown",
   "metadata": {},
   "source": []
  }
 ],
 "metadata": {
  "kernelspec": {
   "display_name": "base",
   "language": "python",
   "name": "python3"
  },
  "language_info": {
   "codemirror_mode": {
    "name": "ipython",
    "version": 3
   },
   "file_extension": ".py",
   "mimetype": "text/x-python",
   "name": "python",
   "nbconvert_exporter": "python",
   "pygments_lexer": "ipython3",
   "version": "3.12.4"
  }
 },
 "nbformat": 4,
 "nbformat_minor": 2
}
