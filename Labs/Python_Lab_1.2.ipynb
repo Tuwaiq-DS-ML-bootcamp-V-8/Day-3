{
 "cells": [
  {
   "cell_type": "markdown",
   "metadata": {},
   "source": [
    "# Python_Lab_1.2"
   ]
  },
  {
   "cell_type": "markdown",
   "metadata": {},
   "source": [
    "### Task 1: \n",
    "1. Create a tuple with the following details:\n",
    "    - Your favorite movie (string)\n",
    "    - The year it was released (integer)\n",
    "    - Its rating out of 10 (float)\n",
    "    - Whether you have watched it (boolean)\n",
    "2. Print the detailes"
   ]
  },
  {
   "cell_type": "code",
   "execution_count": 3,
   "metadata": {},
   "outputs": [
    {
     "name": "stdout",
     "output_type": "stream",
     "text": [
      "(\"Howl's Moving Castle\", 2004, 8.2, True)\n"
     ]
    }
   ],
   "source": [
    "# write your code here ^_^\n",
    "my_tuple = (\"Howl's Moving Castle\", 2004 , 8.2, True)\n",
    "print(my_tuple)\n",
    "#another way:\n",
    "#for i in my_tuple:\n",
    " #   print(i)"
   ]
  },
  {
   "cell_type": "markdown",
   "metadata": {},
   "source": [
    "### Task 2:\n",
    "1. Create a set of 5 favorite colors.\n",
    "2. Print all the colors"
   ]
  },
  {
   "cell_type": "code",
   "execution_count": 5,
   "metadata": {},
   "outputs": [
    {
     "name": "stdout",
     "output_type": "stream",
     "text": [
      "{'red', 'blue', 'white', 'black', 'green'}\n"
     ]
    }
   ],
   "source": [
    "# write your code here ^_^\n",
    "fav_colors = {\"black\",\"white\",\"red\",\"blue\",\"green\"}\n",
    "print(fav_colors)"
   ]
  },
  {
   "cell_type": "markdown",
   "metadata": {},
   "source": [
    "### Task 3:\n",
    "1. Create a dictionary to store information about 3 friends (name as key and a tuple with age and favorite hobby as value).\n",
    "2. Print the details of all friends."
   ]
  },
  {
   "cell_type": "code",
   "execution_count": 9,
   "metadata": {},
   "outputs": [
    {
     "name": "stdout",
     "output_type": "stream",
     "text": [
      "{'Aziz': (23, 'football'), 'Emad': (25, 'video games'), 'Abdullah': (21, 'video games')}\n"
     ]
    }
   ],
   "source": [
    "# write your code here ^_^\n",
    "my_friend = {\"Aziz\":(23,\"football\"),\"Emad\":(25,\"video games\"),\"Abdullah\":(21,\"video games\")}\n",
    "print(my_friend)"
   ]
  },
  {
   "cell_type": "markdown",
   "metadata": {},
   "source": [
    "### Task 4:\n",
    "1. Check if you have watched the movie and print an appropriate message.\n",
    "1. Check if a specific color is in your favorite colors set and print its availability status."
   ]
  },
  {
   "cell_type": "code",
   "execution_count": 23,
   "metadata": {},
   "outputs": [
    {
     "name": "stdout",
     "output_type": "stream",
     "text": [
      "You are legend\n",
      "----------------\n",
      "yes is here\n"
     ]
    }
   ],
   "source": [
    "# write your code here ^_^\n",
    "#1\n",
    "if True in my_tuple :\n",
    "    print (\"You are legend\")\n",
    "\n",
    "print(\"----------------\")\n",
    "#2\n",
    "sp_color = \"blue\"\n",
    "if sp_color in fav_colors:\n",
    "    print(\"yes is here\")"
   ]
  },
  {
   "cell_type": "code",
   "execution_count": null,
   "metadata": {},
   "outputs": [],
   "source": []
  }
 ],
 "metadata": {
  "kernelspec": {
   "display_name": "Python 3 (ipykernel)",
   "language": "python",
   "name": "python3"
  },
  "language_info": {
   "codemirror_mode": {
    "name": "ipython",
    "version": 3
   },
   "file_extension": ".py",
   "mimetype": "text/x-python",
   "name": "python",
   "nbconvert_exporter": "python",
   "pygments_lexer": "ipython3",
   "version": "3.12.4"
  }
 },
 "nbformat": 4,
 "nbformat_minor": 4
}
