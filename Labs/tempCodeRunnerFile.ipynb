print(name + " is " + str(age) + " years old and is " + str(height) + "m tall. Is he a student? " + str(am_i_a_student))
