{
  "cells": [
    {
      "cell_type": "markdown",
      "metadata": {
        "id": "K4g81cxRppvs"
      },
      "source": [
        "# Python_Lab_1.1\n"
      ]
    },
    {
      "cell_type": "markdown",
      "metadata": {
        "id": "zIh5m7Bxppvv"
      },
      "source": [
        "### Task 1\n",
        "1. Print a welcome message.\n",
        "2. Create variables to store the following details:\n",
        "    - Your name (string)\n",
        "    - Your age (integer)\n",
        "    - Your height (float)\n",
        "    - Whether you are a student (boolean)\n",
        "3. Print these details.\n"
      ]
    },
    {
      "cell_type": "code",
      "execution_count": 1,
      "metadata": {
        "colab": {
          "base_uri": "https://localhost:8080/"
        },
        "id": "SySpv2hlppvw",
        "outputId": "c55f39d7-84ac-4c0b-8587-b5e472cdb063"
      },
      "outputs": [
        {
          "output_type": "stream",
          "name": "stdout",
          "text": [
            "Welcome\n",
            "Name: Abdullah Saad\n",
            "Age: 24\n",
            "Height: 178\n",
            "Student: True\n"
          ]
        }
      ],
      "source": [
        "name = \"Abdullah Saad\"\n",
        "age = 24\n",
        "height = 178\n",
        "is_student = True\n",
        "\n",
        "print(\"Welcome\")\n",
        "\n",
        "print(\"Name:\", name)\n",
        "print(\"Age:\", age)\n",
        "print(\"Height:\", height)\n",
        "print(\"Student:\", is_student)\n"
      ]
    },
    {
      "cell_type": "markdown",
      "metadata": {
        "id": "S1WDAs9dppvx"
      },
      "source": [
        "### Task 2\n",
        " 1. Create a list of 5 favorite fruits.\n",
        " 2. Create a list with the price of each fruit.\n",
        " 3. Print the data types of these lists."
      ]
    },
    {
      "cell_type": "code",
      "execution_count": 2,
      "metadata": {
        "colab": {
          "base_uri": "https://localhost:8080/"
        },
        "id": "ojmqWllKppvx",
        "outputId": "a4605f44-a9b8-4ee7-f5b2-9e330afb5420"
      },
      "outputs": [
        {
          "output_type": "stream",
          "name": "stdout",
          "text": [
            "Data type of 'fruits' list: <class 'list'>\n",
            "Data type of 'prices' list: <class 'list'>\n"
          ]
        }
      ],
      "source": [
        "fruits = [\"apple\", \"banana\", \"orange\", \"strawberry\", \"pineapple\"]\n",
        "\n",
        "\n",
        "prices = [10.0, 9.5, 6.0, 12.0, 11.5]\n",
        "\n",
        "print(\"Data type of 'fruits' list:\", type(fruits))\n",
        "print(\"Data type of 'prices' list:\", type(prices))"
      ]
    },
    {
      "cell_type": "markdown",
      "metadata": {
        "id": "7Ia4Y30kppvy"
      },
      "source": [
        "### Task 3\n",
        "1. Print the names of all fruits using a loop.\n",
        "2. Using a while loop and input built-in function, do the following:\n",
        "    - Ask the the user : \"what is the product of 7 * 24 ?\"\n",
        "    - check if the answer is right then exit the loop and print \"You answered this Question correctly\".\n",
        "    - if the answer is wrong, then print \"Your Answer is wrong try again..\" and show the user the question again.\n",
        "3. Build a program that takes one defined variable of type int, then it prints out the result formatted like the following pattern (if we give it 5 for example):\n",
        "\n",
        "    5 4 3 2 1\n",
        "\n",
        "    4 3 2 1\n",
        "\n",
        "    3 2 1\n",
        "\n",
        "    2 1\n",
        "    \n",
        "    1"
      ]
    },
    {
      "cell_type": "code",
      "execution_count": 3,
      "metadata": {
        "colab": {
          "base_uri": "https://localhost:8080/"
        },
        "id": "yGtOf5M3ppvy",
        "outputId": "b23737e9-9719-4892-e0fd-e0cdb9450115"
      },
      "outputs": [
        {
          "output_type": "stream",
          "name": "stdout",
          "text": [
            "Fruits:\n",
            "apple\n",
            "banana\n",
            "orange\n",
            "strawberry\n",
            "pineapple\n"
          ]
        }
      ],
      "source": [
        "fruits = [\"apple\", \"banana\", \"orange\", \"strawberry\", \"pineapple\"]\n",
        "\n",
        "print(\"Fruits:\")\n",
        "for fruit in fruits:\n",
        "    print(fruit)\n",
        ""
      ]
    },
    {
      "cell_type": "code",
      "source": [
        "while True:\n",
        "    a = input(\"What is the product of 7 * 24? \")\n",
        "\n",
        "    if a == \"168\":\n",
        "        print(\"Correct.\")\n",
        "        break\n",
        "    else:\n",
        "        print(\"Wrong. Try again...\")\n"
      ],
      "metadata": {
        "colab": {
          "base_uri": "https://localhost:8080/"
        },
        "id": "M6f1C--VqRof",
        "outputId": "929e6ae8-794a-4599-8322-e19c00464699"
      },
      "execution_count": 4,
      "outputs": [
        {
          "output_type": "stream",
          "name": "stdout",
          "text": [
            "What is the product of 7 * 24? 166\n",
            "Wrong. Try again...\n",
            "What is the product of 7 * 24? 168\n",
            "Correct.\n"
          ]
        }
      ]
    },
    {
      "cell_type": "code",
      "source": [
        "def print_pattern(n):\n",
        "    for i in range(n, 0, -1):\n",
        "        for j in range(i, 0, -1):\n",
        "            print(j, end=\" \")\n",
        "        print()\n",
        "\n",
        "print_pattern(5)"
      ],
      "metadata": {
        "colab": {
          "base_uri": "https://localhost:8080/"
        },
        "id": "Gz_a7dBFqb-q",
        "outputId": "640f00a0-9e44-4279-930e-528102a3fe34"
      },
      "execution_count": 5,
      "outputs": [
        {
          "output_type": "stream",
          "name": "stdout",
          "text": [
            "5 4 3 2 1 \n",
            "4 3 2 1 \n",
            "3 2 1 \n",
            "2 1 \n",
            "1 \n"
          ]
        }
      ]
    },
    {
      "cell_type": "markdown",
      "metadata": {
        "id": "QovH8DD0ppvz"
      },
      "source": [
        "### Task 4\n",
        "You want to recommend a movie to a friend based on the rating and popularity. To accomplish this do the following:\n",
        "\n",
        "- Create a variable for the movie (choose any movie you like).\n",
        "- Create a variable of type int to hold the rating of the movie out of 5. Give this movie rate = 3\n",
        "- Create a popularity score of type float, let it be 72.65\n",
        "- Using an if statement:\n",
        "    - Check if the movie rating is 4 or greater and the popularity is greater than 80, print \"Highly recommended\".\n",
        "    - Else if the movie rating is 3 or greater and the popularity is greater than 70, print \"I recommended it, It is good\".\n",
        "    - Else if the movie rating is 2 or less and the popularity is greater than 60, print \"You should check it out!\".\n",
        "    - Else the movie rating is 2 or less and the popularity is less than 50, print \"Don't watch it, It is a waste of time\"."
      ]
    },
    {
      "cell_type": "code",
      "execution_count": 6,
      "metadata": {
        "colab": {
          "base_uri": "https://localhost:8080/"
        },
        "id": "VMuR_VXhppvz",
        "outputId": "f4defaaf-7a7f-461f-c7df-09b8d943a1d2"
      },
      "outputs": [
        {
          "output_type": "stream",
          "name": "stdout",
          "text": [
            "Flight (2012) for Denzel Washington\n",
            "\n",
            "I recommend it, it is good\n"
          ]
        }
      ],
      "source": [
        "movie = \"Flight (2012) for Denzel Washington\\n\"\n",
        "rating = 3\n",
        "popularity = 72.65\n",
        "print(movie)\n",
        "if rating >= 4 and popularity > 80:\n",
        "    print(\"Highly recommended\")\n",
        "elif rating >= 3 and popularity > 70:\n",
        "    print(\"I recommend it, it is good\")\n",
        "elif rating <= 2 and popularity > 60:\n",
        "    print(\"You should check it out!\")\n",
        "else:\n",
        "    print(\"Don't watch it, it is a waste of time\")"
      ]
    }
  ],
  "metadata": {
    "kernelspec": {
      "display_name": "Python 3",
      "language": "python",
      "name": "python3"
    },
    "language_info": {
      "codemirror_mode": {
        "name": "ipython",
        "version": 3
      },
      "file_extension": ".py",
      "mimetype": "text/x-python",
      "name": "python",
      "nbconvert_exporter": "python",
      "pygments_lexer": "ipython3",
      "version": "3.9.12"
    },
    "colab": {
      "provenance": []
    }
  },
  "nbformat": 4,
  "nbformat_minor": 0
}