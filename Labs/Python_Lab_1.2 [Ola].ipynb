{
 "cells": [
  {
   "cell_type": "markdown",
   "metadata": {},
   "source": [
    "# Python_Lab_1.2"
   ]
  },
  {
   "cell_type": "markdown",
   "metadata": {},
   "source": [
    "### Task 1: \n",
    "1. Create a tuple with the following details:\n",
    "    - Your favorite movie (string)\n",
    "    - The year it was released (integer)\n",
    "    - Its rating out of 10 (float)\n",
    "    - Whether you have watched it (boolean)\n",
    "2. Print the detailes"
   ]
  },
  {
   "cell_type": "code",
   "execution_count": 15,
   "metadata": {},
   "outputs": [
    {
     "name": "stdout",
     "output_type": "stream",
     "text": [
      "(\"Howl's Moving Castle\", 2001, 8.2, True)\n"
     ]
    }
   ],
   "source": [
    "# write your code here ^_^\n",
    "\n",
    "my_tuple = (\"Howl's Moving Castle\", 2001, 8.2, True)\n",
    "print(my_tuple)"
   ]
  },
  {
   "cell_type": "markdown",
   "metadata": {},
   "source": [
    "### Task 2:\n",
    "1. Create a set of 5 favorite colors.\n",
    "2. Print all the colors"
   ]
  },
  {
   "cell_type": "code",
   "execution_count": 17,
   "metadata": {},
   "outputs": [
    {
     "name": "stdout",
     "output_type": "stream",
     "text": [
      "blue\n",
      "purple\n",
      "white\n",
      "red\n",
      "black\n"
     ]
    }
   ],
   "source": [
    "# write your code here ^_^\n",
    "\n",
    "fav_colors = {\"blue\", \"black\", \"red\", \"white\", \"purple\"}\n",
    "\n",
    "\n",
    "for color in fav_colors:\n",
    "    print(color)"
   ]
  },
  {
   "cell_type": "markdown",
   "metadata": {},
   "source": [
    "### Task 3:\n",
    "1. Create a dictionary to store information about 3 friends (name as key and a tuple with age and favorite hobby as value).\n",
    "2. Print the details of all friends."
   ]
  },
  {
   "cell_type": "code",
   "execution_count": 24,
   "metadata": {},
   "outputs": [
    {
     "name": "stdout",
     "output_type": "stream",
     "text": [
      "Name: Sara, Age: 25, Favorite Hobby: painting\n",
      "Name: Maha, Age: 22, Favorite Hobby: cycling\n",
      "Name: Danah, Age: 23, Favorite Hobby: hiking\n"
     ]
    }
   ],
   "source": [
    "# write your code here ^_^\n",
    "\n",
    "friends_info = {\n",
    "    \"Sara\": (25, \"painting\"),\n",
    "    \"Maha\": (22, \"cycling\"),\n",
    "    \"Danah\": (23, \"hiking\")\n",
    "}\n",
    "\n",
    "\n",
    "for name, details in friends_info.items():\n",
    "    age, hobby = details\n",
    "    print(f\"Name: {name}, Age: {age}, Favorite Hobby: {hobby}\")\n",
    "\n"
   ]
  },
  {
   "cell_type": "markdown",
   "metadata": {},
   "source": [
    "### Task 4:\n",
    "1. Check if you have watched the movie and print an appropriate message.\n",
    "1. Check if a specific color is in your favorite colors set and print its availability status."
   ]
  },
  {
   "cell_type": "code",
   "execution_count": 22,
   "metadata": {},
   "outputs": [
    {
     "name": "stdout",
     "output_type": "stream",
     "text": [
      "You have watched the movie: Howl's moving castle.\n",
      "The color blue is in your fav colors set.\n"
     ]
    }
   ],
   "source": [
    "# write your code here ^_^\n",
    "\n",
    "\n",
    "w_movie = \"Howl's moving castle\"\n",
    "movie_to_check = \"Howl's moving castle\"\n",
    "\n",
    "if w_movie == movie_to_check:\n",
    "    print(f\"You have watched the movie: {movie_to_check}.\")\n",
    "else:\n",
    "    print(f\"You have not watched the movie: {movie_to_check}.\")\n",
    "\n",
    "# Fav colors set\n",
    "fav_colors = {\"blue\", \"black\", \"red\", \"purple\", \"white\"}\n",
    "color_to_check = \"blue\"\n",
    "\n",
    "if color_to_check in fav_colors:\n",
    "    print(f\"The color {color_to_check} is in your fav colors set.\")\n",
    "else:\n",
    "    print(f\"The color {color_to_check} is not in your fav colors set.\")\n",
    "\n",
    "\n"
   ]
  },
  {
   "cell_type": "markdown",
   "metadata": {},
   "source": []
  }
 ],
 "metadata": {
  "kernelspec": {
   "display_name": "Python 3 (ipykernel)",
   "language": "python",
   "name": "python3"
  },
  "language_info": {
   "codemirror_mode": {
    "name": "ipython",
    "version": 3
   },
   "file_extension": ".py",
   "mimetype": "text/x-python",
   "name": "python",
   "nbconvert_exporter": "python",
   "pygments_lexer": "ipython3",
   "version": "3.12.4"
  }
 },
 "nbformat": 4,
 "nbformat_minor": 4
}
