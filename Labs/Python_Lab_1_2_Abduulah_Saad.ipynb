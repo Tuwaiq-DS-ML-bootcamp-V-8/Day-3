{
  "cells": [
    {
      "cell_type": "markdown",
      "metadata": {
        "id": "aB5x7TVVj363"
      },
      "source": [
        "# Python_Lab_1.2"
      ]
    },
    {
      "cell_type": "markdown",
      "metadata": {
        "id": "7HDNlOqaj365"
      },
      "source": [
        "### Task 1:\n",
        "1. Create a tuple with the following details:\n",
        "    - Your favorite movie (string)\n",
        "    - The year it was released (integer)\n",
        "    - Its rating out of 10 (float)\n",
        "    - Whether you have watched it (boolean)\n",
        "2. Print the detailes"
      ]
    },
    {
      "cell_type": "code",
      "execution_count": null,
      "metadata": {
        "colab": {
          "base_uri": "https://localhost:8080/"
        },
        "id": "6rHs6hMsj367",
        "outputId": "31861415-3210-4a2e-83f5-6f96a07182e1"
      },
      "outputs": [
        {
          "output_type": "stream",
          "name": "stdout",
          "text": [
            "Favorite Movie: Flight\n",
            "Year Released: 2012\n",
            "Rating (out of 10): 8.7\n",
            "Watched: Yes\n"
          ]
        }
      ],
      "source": [
        "movie_details = (\"Flight\", 2012, 8.7, True)\n",
        "\n",
        "print(\"Favorite Movie:\", movie_details[0])\n",
        "print(\"Year Released:\", movie_details[1])\n",
        "print(\"Rating (out of 10):\", movie_details[2])\n",
        "print(\"Watched:\", \"Yes\" if movie_details[3] else \"No\")"
      ]
    },
    {
      "cell_type": "markdown",
      "metadata": {
        "id": "SYt82I56j368"
      },
      "source": [
        "### Task 2:\n",
        "1. Create a set of 5 favorite colors.\n",
        "2. Print all the colors"
      ]
    },
    {
      "cell_type": "code",
      "execution_count": null,
      "metadata": {
        "colab": {
          "base_uri": "https://localhost:8080/"
        },
        "id": "7FgZgqJ2j368",
        "outputId": "9a51dff3-73a9-456a-e16a-2926e0a3e608"
      },
      "outputs": [
        {
          "output_type": "stream",
          "name": "stdout",
          "text": [
            "My Favorite Colors:\n",
            "green\n",
            "red\n",
            "blue\n",
            "purple\n",
            "yellow\n"
          ]
        }
      ],
      "source": [
        "colors = {\"blue\", \"green\", \"red\", \"purple\", \"yellow\"}\n",
        "\n",
        "# Print all the colors\n",
        "print(\"My Favorite Colors:\")\n",
        "for color in colors:\n",
        "    print(color)"
      ]
    },
    {
      "cell_type": "markdown",
      "metadata": {
        "id": "pr6s74JWj369"
      },
      "source": [
        "### Task 3:\n",
        "1. Create a dictionary to store information about 3 friends (name as key and a tuple with age and favorite hobby as value).\n",
        "2. Print the details of all friends."
      ]
    },
    {
      "cell_type": "code",
      "execution_count": 4,
      "metadata": {
        "id": "TJBZSy7-j369",
        "colab": {
          "base_uri": "https://localhost:8080/"
        },
        "outputId": "4edcf5cb-bab1-4c81-c85c-23ff0bfde119"
      },
      "outputs": [
        {
          "output_type": "stream",
          "name": "stdout",
          "text": [
            "Friends' Details:\n",
            "\n",
            "Name: Mohammed\n",
            "Age: 19\n",
            "Favorite Hobby: Training\n",
            "\n",
            "Name: Saeed\n",
            "Age: 23\n",
            "Favorite Hobby: Reading\n",
            "\n",
            "Name: Abdullah\n",
            "Age: 24\n",
            "Favorite Hobby: Researching\n",
            "\n"
          ]
        }
      ],
      "source": [
        "friends_info = {\n",
        "    \"Mohammed\": (19, \"Training\"),\n",
        "    \"Saeed\": (23, \"Reading\"),\n",
        "    \"Abdullah\": (24, \"Researching\")\n",
        "}\n",
        "\n",
        "print(\"Friends' Details:\\n\")\n",
        "for friend, info in friends_info.items():\n",
        "    print(f\"Name: {friend}\")\n",
        "    print(f\"Age: {info[0]}\")\n",
        "    print(f\"Favorite Hobby: {info[1]}\")\n",
        "    print()"
      ]
    },
    {
      "cell_type": "markdown",
      "metadata": {
        "id": "1nS1R8qvj369"
      },
      "source": [
        "### Task 4:\n",
        "1. Check if you have watched the movie and print an appropriate message.\n",
        "1. Check if a specific color is in your favorite colors set and print its availability status."
      ]
    },
    {
      "cell_type": "code",
      "execution_count": 7,
      "metadata": {
        "id": "l1z-9a3Nj369",
        "colab": {
          "base_uri": "https://localhost:8080/"
        },
        "outputId": "3f71d4f4-200c-49d0-b7ed-b9317f617f75"
      },
      "outputs": [
        {
          "output_type": "stream",
          "name": "stdout",
          "text": [
            "You have watched the movie.\n",
            "Blue is one of your favorite colors.\n"
          ]
        }
      ],
      "source": [
        "movie_watched = True\n",
        "favorite_colors = {\"blue\", \"green\", \"red\", \"purple\", \"yellow\"}\n",
        "\n",
        "if movie_watched:\n",
        "    print(\"You have watched the movie.\")\n",
        "else:\n",
        "    print(\"You have not watched the movie.\")\n",
        "\n",
        "# Check for the color\n",
        "color_check = \"blue\"\n",
        "if color_check in favorite_colors:\n",
        "    print(f\"{color_check.capitalize()} is one of your favorite colors.\")\n",
        "else:\n",
        "    print(f\"{color_check.capitalize()} is not in your favorite colors.\")"
      ]
    }
  ],
  "metadata": {
    "language_info": {
      "name": "python"
    },
    "colab": {
      "provenance": []
    },
    "kernelspec": {
      "name": "python3",
      "display_name": "Python 3"
    }
  },
  "nbformat": 4,
  "nbformat_minor": 0
}