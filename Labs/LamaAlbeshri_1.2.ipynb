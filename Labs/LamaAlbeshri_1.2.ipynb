{
 "cells": [
  {
   "cell_type": "markdown",
   "metadata": {},
   "source": [
    "# Python_Lab_1.2"
   ]
  },
  {
   "cell_type": "markdown",
   "metadata": {},
   "source": [
    "### Task 1: \n",
    "1. Create a tuple with the following details:\n",
    "    - Your favorite movie (string)\n",
    "    - The year it was released (integer)\n",
    "    - Its rating out of 10 (float)\n",
    "    - Whether you have watched it (boolean)\n",
    "2. Print the detailes"
   ]
  },
  {
   "cell_type": "code",
   "execution_count": 34,
   "metadata": {},
   "outputs": [
    {
     "name": "stdout",
     "output_type": "stream",
     "text": [
      "this is my favorite movie : rush hour\n",
      "year released : 1988\n",
      "rating movie in IMDb: 7.8\n",
      "watched?: True\n"
     ]
    }
   ],
   "source": [
    "my_movie=(\"rush hour\",1988,7.8,True)\n",
    "#Print the detailes\n",
    "print (\"this is my favorite movie :\",my_movie[0])\n",
    "print (\"year released :\",my_movie[1])\n",
    "print (\"rating movie in IMDb:\",my_movie[2])\n",
    "print (\"watched?:\",my_movie[3])"
   ]
  },
  {
   "cell_type": "markdown",
   "metadata": {},
   "source": [
    "### Task 2:\n",
    "1. Create a set of 5 favorite colors.\n",
    "2. Print all the colors"
   ]
  },
  {
   "cell_type": "code",
   "execution_count": 35,
   "metadata": {},
   "outputs": [
    {
     "name": "stdout",
     "output_type": "stream",
     "text": [
      "{'black', 'blue', 'white'}\n"
     ]
    }
   ],
   "source": [
    "favorit_colors={\"blue\",\"black\",\"white\"}\n",
    "print(favorit_colors)"
   ]
  },
  {
   "cell_type": "markdown",
   "metadata": {},
   "source": [
    "### Task 3:\n",
    "1. Create a dictionary to store information about 3 friends (name as key and a tuple with age and favorite hobby as value).\n",
    "2. Print the details of all friends."
   ]
  },
  {
   "cell_type": "code",
   "execution_count": 36,
   "metadata": {},
   "outputs": [
    {
     "name": "stdout",
     "output_type": "stream",
     "text": [
      "my friend Name is :Ather, her Age is:24,favorite hobby:reading\n",
      "my friend Name is :Hanen, her Age is:23,favorite hobby:panting\n",
      "my friend Name is :mayar, her Age is:25,favorite hobby:reading\n"
     ]
    }
   ],
   "source": [
    "my_friend={\n",
    "    \"Ather\":(24,\"reading\"),\n",
    "    \"Hanen\":(23,\"panting\"),\n",
    "    \"mayar\":(25,\"reading\")}\n",
    "# make for loop to print all information in each friend\n",
    "for name,(age,hobby)in my_friend.items():\n",
    "    print(f\"my friend Name is :{name}, her Age is:{age},favorite hobby:{hobby}\")\n"
   ]
  },
  {
   "cell_type": "markdown",
   "metadata": {},
   "source": [
    "### Task 4:\n",
    "1. Check if you have watched the movie and print an appropriate message.\n",
    "1. Check if a specific color is in your favorite colors set and print its availability status."
   ]
  },
  {
   "cell_type": "code",
   "execution_count": 40,
   "metadata": {},
   "outputs": [
    {
     "name": "stdout",
     "output_type": "stream",
     "text": [
      "opps i have not watched dark\n"
     ]
    }
   ],
   "source": [
    "#1.Check if you have watched the movie and print an appropriate message.\n",
    "movie = input (\"enter movie name want to check \").strip().lower()\n",
    "#my_movie make check in tuple that have created in task1 \n",
    "if movie in my_movie:\n",
    "    print(f\"{movie} WOW! i have watched {movie}\")\n",
    "else:\n",
    "    print (f\"opps i have not watched {movie}\")"
   ]
  },
  {
   "cell_type": "code",
   "execution_count": 33,
   "metadata": {},
   "outputs": [
    {
     "name": "stdout",
     "output_type": "stream",
     "text": [
      "black is one of my favorite colors \n"
     ]
    }
   ],
   "source": [
    "#1. Check if a specific color is in your favorite colors set and print its availability status.\n",
    "#favorit_colors >set from task2\n",
    "specific_color = input (\"enter favorite colors want to check \").strip().lower() # i will check if black in my set \n",
    "if specific_color in favorit_colors :\n",
    "    print (f\"{specific_color} is one of my favorite colors \")\n",
    "else :\n",
    "    print (f\"{specific_color} is not one  of my favorite colors \")"
   ]
  },
  {
   "cell_type": "markdown",
   "metadata": {},
   "source": []
  }
 ],
 "metadata": {
  "kernelspec": {
   "display_name": "base",
   "language": "python",
   "name": "python3"
  },
  "language_info": {
   "codemirror_mode": {
    "name": "ipython",
    "version": 3
   },
   "file_extension": ".py",
   "mimetype": "text/x-python",
   "name": "python",
   "nbconvert_exporter": "python",
   "pygments_lexer": "ipython3",
   "version": "3.9.13"
  }
 },
 "nbformat": 4,
 "nbformat_minor": 2
}
