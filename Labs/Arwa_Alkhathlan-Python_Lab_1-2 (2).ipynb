{
 "cells": [
  {
   "cell_type": "markdown",
   "metadata": {},
   "source": [
    "# Python_Lab_1.2"
   ]
  },
  {
   "cell_type": "markdown",
   "metadata": {},
   "source": [
    "### Task 1: \n",
    "1. Create a tuple with the following details:\n",
    "    - Your favorite movie (string)\n",
    "    - The year it was released (integer)\n",
    "    - Its rating out of 10 (float)\n",
    "    - Whether you have watched it (boolean)\n",
    "2. Print the detailes"
   ]
  },
  {
   "cell_type": "code",
   "execution_count": 5,
   "metadata": {},
   "outputs": [
    {
     "name": "stdout",
     "output_type": "stream",
     "text": [
      "('white chicks', 2004, 5.8, True)\n",
      "white chicks\n",
      "2004\n",
      "5.8\n",
      "True\n"
     ]
    }
   ],
   "source": [
    "\n",
    "favmovie = ('white chicks', 2004, 5.8, True )\n",
    "\n",
    "print(favmovie)\n",
    "\n",
    "for x in favmovie:\n",
    "    print(x)"
   ]
  },
  {
   "cell_type": "markdown",
   "metadata": {},
   "source": [
    "### Task 2:\n",
    "1. Create a set of 5 favorite colors.\n",
    "2. Print all the colors"
   ]
  },
  {
   "cell_type": "code",
   "execution_count": 13,
   "metadata": {},
   "outputs": [
    {
     "name": "stdout",
     "output_type": "stream",
     "text": [
      "{'White', 'Pink', 'Red', 'Yellow', 'Black'}\n",
      "White\n",
      "Pink\n",
      "Red\n",
      "Yellow\n",
      "Black\n"
     ]
    }
   ],
   "source": [
    "colors = {'Pink','Red','White', 'Black','Yellow'}\n",
    "\n",
    "print(colors)\n",
    "\n",
    "for x in colors:\n",
    "    print(x)"
   ]
  },
  {
   "cell_type": "markdown",
   "metadata": {},
   "source": [
    "### Task 3:\n",
    "1. Create a dictionary to store information about 3 friends (name as key and a tuple with age and favorite hobby as value).\n",
    "2. Print the details of all friends."
   ]
  },
  {
   "cell_type": "code",
   "execution_count": 7,
   "metadata": {},
   "outputs": [
    {
     "name": "stdout",
     "output_type": "stream",
     "text": [
      "Name: lujain, Age: 22, Favorite Hobby: reading\n",
      "Name: renad, Age: 22, Favorite Hobby: drawing\n",
      "Name: najd, Age: 27, Favorite Hobby: photography\n"
     ]
    }
   ],
   "source": [
    "\n",
    "friends = {\n",
    "    \"lujain\": (22, \"reading\"),\n",
    "    \"renad\": (22, \"drawing\"),\n",
    "    \"najd\": (27, \"photography\")\n",
    "}\n",
    "\n",
    "for name, (age, hobby) in friends.items():\n",
    "    print(f\"Name: {name}, Age: {age}, Favorite Hobby: {hobby}\")\n"
   ]
  },
  {
   "cell_type": "markdown",
   "metadata": {},
   "source": [
    "### Task 4:\n",
    "1. Check if you have watched the movie and print an appropriate message.\n",
    "1. Check if a specific color is in your favorite colors set and print its availability status."
   ]
  },
  {
   "cell_type": "code",
   "execution_count": 8,
   "metadata": {},
   "outputs": [
    {
     "name": "stdout",
     "output_type": "stream",
     "text": [
      "You have watched the movie.\n"
     ]
    }
   ],
   "source": [
    "if favmovie[3]:\n",
    "    print(\"You have watched the movie.\")\n",
    "else:\n",
    "    print(\"You have not watched the movie.\")"
   ]
  },
  {
   "cell_type": "code",
   "execution_count": 12,
   "metadata": {},
   "outputs": [
    {
     "name": "stdout",
     "output_type": "stream",
     "text": [
      "Pink is available in the set.\n"
     ]
    }
   ],
   "source": [
    "color = 'Pink'  \n",
    "if color in colors:\n",
    "    print(f\"{color} is available in the set.\")\n",
    "else:\n",
    "    print(f\"{color} is not available in the set.\")"
   ]
  },
  {
   "cell_type": "code",
   "execution_count": null,
   "metadata": {},
   "outputs": [],
   "source": []
  }
 ],
 "metadata": {
  "kernelspec": {
   "display_name": "Python 3 (ipykernel)",
   "language": "python",
   "name": "python3"
  },
  "language_info": {
   "codemirror_mode": {
    "name": "ipython",
    "version": 3
   },
   "file_extension": ".py",
   "mimetype": "text/x-python",
   "name": "python",
   "nbconvert_exporter": "python",
   "pygments_lexer": "ipython3",
   "version": "3.12.4"
  }
 },
 "nbformat": 4,
 "nbformat_minor": 4
}
