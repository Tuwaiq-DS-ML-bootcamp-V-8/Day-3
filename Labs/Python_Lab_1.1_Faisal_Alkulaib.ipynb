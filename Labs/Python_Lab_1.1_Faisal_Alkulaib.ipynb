{
 "cells": [
  {
   "cell_type": "markdown",
   "metadata": {},
   "source": [
    "# Python_Lab_1.1\n"
   ]
  },
  {
   "cell_type": "markdown",
   "metadata": {},
   "source": [
    "### Task 1\n",
    "1. Print a welcome message.\n",
    "2. Create variables to store the following details:\n",
    "    - Your name (string)\n",
    "    - Your age (integer)\n",
    "    - Your height (float)\n",
    "    - Whether you are a student (boolean)\n",
    "3. Print these details.\n"
   ]
  },
  {
   "cell_type": "code",
   "execution_count": 1,
   "metadata": {},
   "outputs": [
    {
     "name": "stdout",
     "output_type": "stream",
     "text": [
      "WELCOME TO MY SPACE!!\n",
      "Name: Faisal Alkulaib\n",
      "Age: 21\n",
      "Height: 182.0\n",
      "Student: True\n"
     ]
    }
   ],
   "source": [
    "# write your code here ^_^\n",
    "print(\"WELCOME TO MY SPACE!!\")\n",
    "\n",
    "name, age, height, student = 'Faisal Alkulaib', 21, 182.0, True\n",
    "\n",
    "print(f'Name: {name}\\nAge: {age}\\nHeight: {height}\\nStudent: {student}')"
   ]
  },
  {
   "cell_type": "markdown",
   "metadata": {},
   "source": [
    "### Task 2\n",
    " 1. Create a list of 5 favorite fruits.\n",
    " 2. Create a list with the price of each fruit.\n",
    " 3. Print the data types of these lists."
   ]
  },
  {
   "cell_type": "code",
   "execution_count": 2,
   "metadata": {},
   "outputs": [
    {
     "name": "stdout",
     "output_type": "stream",
     "text": [
      "<class 'list'> <class 'list'>\n"
     ]
    }
   ],
   "source": [
    "# write your code here ^_^\n",
    "fav_fruits = ['Apple', 'Banana', 'Orange', 'Strawberry', 'Mango']\n",
    "prices = [1.0, 0.5, 2.0, 3.0, 1.5]\n",
    "\n",
    "print(type(fav_fruits), type(prices))"
   ]
  },
  {
   "cell_type": "markdown",
   "metadata": {},
   "source": [
    "### Task 3\n",
    "1. Print the names of all fruits using a loop.\n",
    "2. Using a while loop and input built-in function, do the following:\n",
    "    - Ask the the user : \"what is the product of 7 * 24 ?\"\n",
    "    - check if the answer is right then exit the loop and print \"You answered this Question correctly\".\n",
    "    - if the answer is wrong, then print \"Your Answer is wrong try again..\" and show the user the question again.\n",
    "3. Build a program that takes one defined variable of type int, then it prints out the result formatted like the following pattern (if we give it 5 for example):\n",
    "\n",
    "    5 4 3 2 1\n",
    "\n",
    "    4 3 2 1\n",
    "\n",
    "    3 2 1\n",
    "\n",
    "    2 1\n",
    "    \n",
    "    1"
   ]
  },
  {
   "cell_type": "code",
   "execution_count": 3,
   "metadata": {},
   "outputs": [
    {
     "name": "stdout",
     "output_type": "stream",
     "text": [
      "Apple\n",
      "Banana\n",
      "Orange\n",
      "Strawberry\n",
      "Mango\n"
     ]
    }
   ],
   "source": [
    "# write your code here ^_^\n",
    "#Task 3.1\n",
    "for fruit in fav_fruits:\n",
    "    print(fruit)"
   ]
  },
  {
   "cell_type": "code",
   "execution_count": 4,
   "metadata": {},
   "outputs": [
    {
     "name": "stdout",
     "output_type": "stream",
     "text": [
      "What is the product of 7 * 24\n",
      "You answered this Question correctly\n"
     ]
    }
   ],
   "source": [
    "#Task 3.2\n",
    "print(\"What is the product of 7 * 24\")\n",
    "answer = int(input())\n",
    "\n",
    "while answer != 7 * 24:\n",
    "    print(\"Your Answer is wrong try again..\")\n",
    "    answer = int(input())\n",
    "\n",
    "print(\"You answered this Question correctly\")"
   ]
  },
  {
   "cell_type": "code",
   "execution_count": 15,
   "metadata": {},
   "outputs": [
    {
     "name": "stdout",
     "output_type": "stream",
     "text": [
      "5 4 3 2 1 \n",
      "4 3 2 1 \n",
      "3 2 1 \n",
      "2 1 \n",
      "1 \n"
     ]
    }
   ],
   "source": [
    "#Task 3.3\n",
    "counter = num = 5\n",
    "\n",
    "while num > 0:\n",
    "    counter = num\n",
    "    while counter > 0:\n",
    "        print(counter, end=' ')\n",
    "        counter -= 1\n",
    "    print()\n",
    "    num-=1\n",
    "\n"
   ]
  },
  {
   "cell_type": "markdown",
   "metadata": {},
   "source": [
    "### Task 4\n",
    "You want to recommend a movie to a friend based on the rating and popularity. To accomplish this do the following:\n",
    "\n",
    "- Create a variable for the movie (choose any movie you like).\n",
    "- Create a variable of type int to hold the rating of the movie out of 5. Give this movie rate = 3\n",
    "- Create a popularity score of type float, let it be 72.65\n",
    "- Using an if statement:\n",
    "    - Check if the movie rating is 4 or greater and the popularity is greater than 80, print \"Highly recommended\".\n",
    "    - Else if the movie rating is 3 or greater and the popularity is greater than 70, print \"I recommended it, It is good\".\n",
    "    - Else if the movie rating is 2 or less and the popularity is greater than 60, print \"You should check it out!\".\n",
    "    - Else the movie rating is 2 or less and the popularity is less than 50, print \"Don't watch it, It is a waste of time\"."
   ]
  },
  {
   "cell_type": "code",
   "execution_count": 28,
   "metadata": {},
   "outputs": [
    {
     "name": "stdout",
     "output_type": "stream",
     "text": [
      "I recommended it, It is good\n"
     ]
    }
   ],
   "source": [
    "# write your code here ^_^\n",
    "movie = 'Inglourious Basterds'\n",
    "rating = 3\n",
    "popularity = 72.65\n",
    "\n",
    "if movie and (rating >= 4 and rating <=5) and popularity > 80.0:\n",
    "    print(\"Highly recommended\")\n",
    "elif movie and (rating >= 3 and rating <=5) and popularity > 70.0:\n",
    "    print(\"I recommended it, It is good\")\n",
    "elif movie and (rating >= 0 and rating <= 2) and popularity > 60.0:\n",
    "    print(\"You should check it out!\")\n",
    "elif movie and (rating >= 0 and rating <= 2) and popularity < 50.0:\n",
    "    print(\"Don't watch it, It is a waste of time\")\n",
    "\n"
   ]
  }
 ],
 "metadata": {
  "kernelspec": {
   "display_name": "Python 3",
   "language": "python",
   "name": "python3"
  },
  "language_info": {
   "codemirror_mode": {
    "name": "ipython",
    "version": 3
   },
   "file_extension": ".py",
   "mimetype": "text/x-python",
   "name": "python",
   "nbconvert_exporter": "python",
   "pygments_lexer": "ipython3",
   "version": "3.11.9"
  }
 },
 "nbformat": 4,
 "nbformat_minor": 2
}
