{
 "cells": [
  {
   "cell_type": "markdown",
   "metadata": {},
   "source": [
    "# Python_Lab_1.1\n"
   ]
  },
  {
   "cell_type": "markdown",
   "metadata": {},
   "source": [
    "### Task 1\n",
    "1. Print a welcome message.\n",
    "2. Create variables to store the following details:\n",
    "    - Your name (string)\n",
    "    - Your age (integer)\n",
    "    - Your height (float)\n",
    "    - Whether you are a student (boolean)\n",
    "3. Print these details.\n"
   ]
  },
  {
   "cell_type": "code",
   "execution_count": 4,
   "metadata": {},
   "outputs": [
    {
     "name": "stdout",
     "output_type": "stream",
     "text": [
      "welcome to lab 1\n",
      "name: Lama Albeshri\n",
      "age: 23\n",
      "Height: 165.6\n",
      "Student: False\n"
     ]
    }
   ],
   "source": [
    "print (\"welcome to lab 1\")\n",
    "my_name = \"Lama Albeshri\"\n",
    "my_age=23\n",
    "height=165.6\n",
    "is_student= False\n",
    "print(\"name:\",my_name)\n",
    "print(\"age:\",my_age)\n",
    "print(\"Height:\",height)\n",
    "print(\"Student:\",is_student)\n"
   ]
  },
  {
   "cell_type": "markdown",
   "metadata": {},
   "source": [
    "### Task 2\n",
    " 1. Create a list of 5 favorite fruits.\n",
    " 2. Create a list with the price of each fruit.\n",
    " 3. Print the data types of these lists."
   ]
  },
  {
   "cell_type": "code",
   "execution_count": 5,
   "metadata": {},
   "outputs": [
    {
     "name": "stdout",
     "output_type": "stream",
     "text": [
      "the type list of favorite fruits is: <class 'list'>\n",
      "the type list of price of fruit is: <class 'list'>\n"
     ]
    }
   ],
   "source": [
    "fruits=[\"Mango\",\"Orange\",\"Watermelon\",\"Strawberry\",\"Cherry\"]\n",
    "price_fruits=[6,4.13,14.85,12.95,24.95] # per kilogram\n",
    "print (\"the type list of favorite fruits is:\",type(fruits))\n",
    "print (\"the type list of price of fruit is:\",type(price_fruits))\n"
   ]
  },
  {
   "cell_type": "markdown",
   "metadata": {},
   "source": [
    "### Task 3\n",
    "1. Print the names of all fruits using a loop.\n",
    "2. Using a while loop and input built-in function, do the following:\n",
    "    - Ask the the user : \"what is the product of 7 * 24 ?\"\n",
    "    - check if the answer is right then exit the loop and print \"You answered this Question correctly\".\n",
    "    - if the answer is wrong, then print \"Your Answer is wrong try again..\" and show the user the question again.\n",
    "3. Build a program that takes one defined variable of type int, then it prints out the result formatted like the following pattern (if we give it 5 for example):\n",
    "\n",
    "    5 4 3 2 1\n",
    "\n",
    "    4 3 2 1\n",
    "\n",
    "    3 2 1\n",
    "\n",
    "    2 1\n",
    "\n",
    "    1"
   ]
  },
  {
   "cell_type": "code",
   "execution_count": 6,
   "metadata": {},
   "outputs": [
    {
     "name": "stdout",
     "output_type": "stream",
     "text": [
      "Mango\n",
      "Orange\n",
      "Watermelon\n",
      "Strawberry\n",
      "Cherry\n"
     ]
    }
   ],
   "source": [
    "#1. Print the names of all fruits using a loop.\n",
    "for f in fruits:\n",
    "    print(f)\n",
    "\n",
    "    \n",
    "\n"
   ]
  },
  {
   "cell_type": "code",
   "execution_count": 9,
   "metadata": {},
   "outputs": [
    {
     "name": "stdout",
     "output_type": "stream",
     "text": [
      "You answered this question correctly.\n"
     ]
    }
   ],
   "source": [
    "Q_product = 7 * 24\n",
    "\n",
    "while True:\n",
    "    answer_user = input(\"What is the product of 7 * 24? \")\n",
    "    \n",
    "    if answer_user.isdigit():# check if user enter  valid type of input \n",
    "        if int(answer_user) == Q_product:\n",
    "            print(\"You answered this question correctly.\")\n",
    "            break  \n",
    "        else:\n",
    "            print(\"Your answer is wrong, try again...\")\n",
    "    else: \n",
    "        print(\"Please enter a valid number.\")"
   ]
  },
  {
   "cell_type": "code",
   "execution_count": 8,
   "metadata": {},
   "outputs": [
    {
     "name": "stdout",
     "output_type": "stream",
     "text": [
      "5 4 3 2 1 \n",
      "4 3 2 1 \n",
      "3 2 1 \n",
      "2 1 \n",
      "1 \n"
     ]
    }
   ],
   "source": [
    "#3. Build a program that takes one defined variable of type int, then it prints out the result formatted like the following pattern (if we give it 5 for example):\n",
    "rng= 5 \n",
    "\n",
    "for i in range(rng, 0, -1):\n",
    "    for j in range(i, 0, -1):\n",
    "        print(j, end=' ')\n",
    "    print()"
   ]
  },
  {
   "cell_type": "markdown",
   "metadata": {},
   "source": [
    "### Task 4\n",
    "You want to recommend a movie to a friend based on the rating and popularity. To accomplish this do the following:\n",
    "\n",
    "- Create a variable for the movie (choose any movie you like).\n",
    "- Create a variable of type int to hold the rating of the movie out of 5. Give this movie rate = 3\n",
    "- Create a popularity score of type float, let it be 72.65\n",
    "- Using an if statement:\n",
    "    - Check if the movie rating is 4 or greater and the popularity is greater than 80, print \"Highly recommended\".\n",
    "    - Else if the movie rating is 3 or greater and the popularity is greater than 70, print \"I recommended it, It is good\".\n",
    "    - Else if the movie rating is 2 or less and the popularity is greater than 60, print \"You should check it \n",
    "    - Else the movie rating is 2 or less and the popularity is less than 50, print \"Don't watch it, It is a waste of time\".out!\"."
   ]
  },
  {
   "cell_type": "code",
   "execution_count": 10,
   "metadata": {},
   "outputs": [
    {
     "name": "stdout",
     "output_type": "stream",
     "text": [
      "I recommended it, It is good\n"
     ]
    }
   ],
   "source": [
    "movie = \"Rush Hour\"\n",
    "rating_movie =3\n",
    "popularity_score = 72.65\n",
    "\n",
    "# Using an if statement:\n",
    "\n",
    "if rating_movie >= 4 and popularity_score > 80:\n",
    "    print(\"Highly recommended\")\n",
    "\n",
    "elif rating_movie >= 3 and popularity_score > 70:\n",
    "    print(\"I recommended it, It is good\")\n",
    "\n",
    "elif rating_movie <= 2 and popularity_score > 60:\n",
    "    print(\"You should check it out!\")\n",
    "\n",
    "else:  #Else the movie rating is 2 or less and the popularity is less than 50, print \"Don't watch it, It is a waste of time\".\n",
    "    print(\"Don't watch it, It is a waste of time\")\n"
   ]
  }
 ],
 "metadata": {
  "kernelspec": {
   "display_name": "Python 3",
   "language": "python",
   "name": "python3"
  },
  "language_info": {
   "codemirror_mode": {
    "name": "ipython",
    "version": 3
   },
   "file_extension": ".py",
   "mimetype": "text/x-python",
   "name": "python",
   "nbconvert_exporter": "python",
   "pygments_lexer": "ipython3",
   "version": "3.9.13"
  }
 },
 "nbformat": 4,
 "nbformat_minor": 2
}
