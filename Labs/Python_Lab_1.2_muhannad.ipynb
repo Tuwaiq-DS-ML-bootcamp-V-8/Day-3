{
 "cells": [
  {
   "cell_type": "markdown",
   "metadata": {},
   "source": [
    "# Python_Lab_1.2"
   ]
  },
  {
   "cell_type": "markdown",
   "metadata": {},
   "source": [
    "### Task 1: \n",
    "1. Create a tuple with the following details:\n",
    "    - Your favorite movie (string)\n",
    "    - The year it was released (integer)\n",
    "    - Its rating out of 10 (float)\n",
    "    - Whether you have watched it (boolean)\n",
    "2. Print the detailes"
   ]
  },
  {
   "cell_type": "code",
   "execution_count": null,
   "metadata": {},
   "outputs": [],
   "source": [
    "# write your code here ^_^\n",
    "favorite_movie = \"fast and furious\"\n",
    "  release_year = 2001\n",
    "  rating = 9.3\n",
    "  watched = True\n",
    "  \n",
    "  movie_details = (favorite_movie, release_year, rating, watched)\n",
    "\n",
    "  print(\"My favorite movie is:\", movie_details[0])\n",
    "  print(\"It was released in:\", movie_details[1])\n",
    "  print(\"Its rating is:\", movie_details[2])\n",
    "  print(\"Have I watched it?\", movie_details[3])"
   ]
  },
  {
   "cell_type": "markdown",
   "metadata": {},
   "source": [
    "### Task 2:\n",
    "1. Create a set of 5 favorite colors.\n",
    "2. Print all the colors"
   ]
  },
  {
   "cell_type": "code",
   "execution_count": null,
   "metadata": {},
   "outputs": [],
   "source": [
    "# write your code here ^_^\n",
    "favorite_colors = {\"blue\", \"green\", \"red\", \"yellow\", \"purple\"}\n",
    "\n",
    "print(\"My favorite colors are:\")\n",
    "for color in favorite_colors:\n",
    "    print(color)"
   ]
  },
  {
   "cell_type": "markdown",
   "metadata": {},
   "source": [
    "### Task 3:\n",
    "1. Create a dictionary to store information about 3 friends (name as key and a tuple with age and favorite hobby as value).\n",
    "2. Print the details of all friends."
   ]
  },
  {
   "cell_type": "code",
   "execution_count": null,
   "metadata": {},
   "outputs": [],
   "source": [
    "# write your code here ^_^\n",
    "friends = {\n",
    "  \"Nawaf\": (25, \"play football\"),\n",
    "  \"khaled\": (22, \"playing video games\"),\n",
    "  \"Rakan\": (28, \"reading\")\n",
    "}\n",
    "\n",
    "print(\"My friends and their details:\")\n",
    "for friend, details in friends.items():\n",
    "  print(friend, \"is\", details[0], \"years old and enjoys\", details[1])"
   ]
  },
  {
   "cell_type": "markdown",
   "metadata": {},
   "source": [
    "### Task 4:\n",
    "1. Check if you have watched the movie and print an appropriate message.\n",
    "1. Check if a specific color is in your favorite colors set and print its availability status."
   ]
  },
  {
   "cell_type": "code",
   "execution_count": null,
   "metadata": {},
   "outputs": [],
   "source": [
    "# write your code here ^_^\n",
    "favorite_movie = \"fast and furious\"\n",
    "release_year = 2001\n",
    "rating = 9.3\n",
    "watched = True\n",
    "\n",
    "movie_details = (favorite_movie, release_year, rating, watched)\n",
    "\n",
    "print(\"My favorite movie is:\", movie_details[0])\n",
    "print(\"It was released in:\", movie_details[1])\n",
    "print(\"Its rating is:\", movie_details[2])\n",
    "print(\"Have I watched it?\", movie_details[3])\n",
    "\n",
    "favorite_colors = {\"blue\", \"green\", \"red\", \"yellow\", \"purple\"}\n",
    "print(\"My favorite colors are:\")\n",
    "for color in favorite_colors:\n",
    "    print(color)\n",
    "\n",
    "if movie_details[3]:\n",
    "  print(\"You have already watched\", movie_details[0])\n",
    "else:\n",
    "  print(\"You haven't watched\", movie_details[0], \"yet.\")\n",
    "specific_color = \"blue\"\n",
    "if specific_color in favorite_colors:\n",
    "  print(specific_color, \"is one of your favorite colors.\")\n",
    "else:\n",
    "  print(specific_color, \"is not one of your favorite colors.\")"
   ]
  },
  {
   "cell_type": "markdown",
   "metadata": {},
   "source": []
  }
 ],
 "metadata": {
  "language_info": {
   "name": "python"
  }
 },
 "nbformat": 4,
 "nbformat_minor": 2
}
