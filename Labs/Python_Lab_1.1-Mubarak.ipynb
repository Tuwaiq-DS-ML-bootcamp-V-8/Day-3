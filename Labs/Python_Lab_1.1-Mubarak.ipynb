{
 "cells": [
  {
   "cell_type": "markdown",
   "metadata": {},
   "source": [
    "# Python_Lab_1.1\n"
   ]
  },
  {
   "cell_type": "markdown",
   "metadata": {},
   "source": [
    "### Task 1\n",
    "1. Print a welcome message.\n",
    "2. Create variables to store the following details:\n",
    "    - Your name (string)\n",
    "    - Your age (integer)\n",
    "    - Your height (float)\n",
    "    - Whether you are a student (boolean)\n",
    "3. Print these details.\n"
   ]
  },
  {
   "cell_type": "code",
   "execution_count": 1,
   "metadata": {},
   "outputs": [
    {
     "name": "stdout",
     "output_type": "stream",
     "text": [
      "welcome Mubarak, your age is 22 and your height is 171.0\n"
     ]
    }
   ],
   "source": [
    "# write your code here ^_^\n",
    "name =\"Mubarak\"\n",
    "age = 22\n",
    "height = 171.0\n",
    "isStudent = True\n",
    "print (f\"welcome {name}, your age is {age} and your height is {height}\")"
   ]
  },
  {
   "cell_type": "markdown",
   "metadata": {},
   "source": [
    "### Task 2\n",
    " 1. Create a list of 5 favorite fruits.\n",
    " 2. Create a list with the price of each fruit.\n",
    " 3. Print the data types of these lists."
   ]
  },
  {
   "cell_type": "code",
   "execution_count": 3,
   "metadata": {},
   "outputs": [
    {
     "name": "stdout",
     "output_type": "stream",
     "text": [
      "type of fruits list <class 'list'> \n",
      "type of prices list <class 'list'>\n"
     ]
    }
   ],
   "source": [
    "# write your code here ^_^\n",
    "fruits =[\"Orange\", \"Apple\", \"Banana\", \"Mango\", \"Strawberry\"]\n",
    "prices = [12.5, 10, 17.5, 22, 30]\n",
    "print(f\"type of fruits list {type(fruits)} \\ntype of prices list {type(prices)}\")"
   ]
  },
  {
   "cell_type": "markdown",
   "metadata": {},
   "source": [
    "### Task 3\n",
    "1. Print the names of all fruits using a loop.\n",
    "2. Using a while loop and input built-in function, do the following:\n",
    "    - Ask the the user : \"what is the product of 7 * 24 ?\"\n",
    "    - check if the answer is right then exit the loop and print \"You answered this Question correctly\".\n",
    "    - if the answer is wrong, then print \"Your Answer is wrong try again..\" and show the user the question again.\n",
    "3. Build a program that takes one defined variable of type int, then it prints out the result formatted like the following pattern (if we give it 5 for example):\n",
    "\n",
    "    5 4 3 2 1\n",
    "\n",
    "    4 3 2 1\n",
    "\n",
    "    3 2 1\n",
    "\n",
    "    2 1\n",
    "    \n",
    "    1"
   ]
  },
  {
   "cell_type": "code",
   "execution_count": 5,
   "metadata": {},
   "outputs": [
    {
     "name": "stdout",
     "output_type": "stream",
     "text": [
      "Orange\n",
      "Apple\n",
      "Banana\n",
      "Mango\n",
      "Strawberry\n"
     ]
    }
   ],
   "source": [
    "# write your code here ^_^ --------------->1\n",
    "for i in fruits:\n",
    "    print(i)"
   ]
  },
  {
   "cell_type": "code",
   "execution_count": 1,
   "metadata": {},
   "outputs": [
    {
     "name": "stdout",
     "output_type": "stream",
     "text": [
      "Your Answer is wrong try again..\n",
      "You answered this Question correctly\n"
     ]
    }
   ],
   "source": [
    "#------------------------------------->2\n",
    "while True:\n",
    "    answer = input(\"what is the product of 7 * 24 ?\")\n",
    "    if int(answer) == 7*24:\n",
    "        print(\"You answered this Question correctly\")\n",
    "        break\n",
    "    else:\n",
    "        print(\"Your Answer is wrong try again..\")\n",
    "        continue"
   ]
  },
  {
   "cell_type": "code",
   "execution_count": 11,
   "metadata": {},
   "outputs": [
    {
     "name": "stdout",
     "output_type": "stream",
     "text": [
      "5 4 3 2 1\n",
      "4 3 2 1\n",
      "3 2 1\n",
      "2 1\n",
      "1\n"
     ]
    }
   ],
   "source": [
    "#----------------------------->3\n",
    "size = int(input(\"inter the max number:\"))\n",
    "while size != 0:\n",
    "    arr = [str(i) for i in range(size,0,-1)]\n",
    "    print(' '.join(arr))\n",
    "    size = size-1\n"
   ]
  },
  {
   "cell_type": "markdown",
   "metadata": {},
   "source": [
    "### Task 4\n",
    "You want to recommend a movie to a friend based on the rating and popularity. To accomplish this do the following:\n",
    "\n",
    "- Create a variable for the movie (choose any movie you like).\n",
    "- Create a variable of type int to hold the rating of the movie out of 5. Give this movie rate = 3\n",
    "- Create a popularity score of type float, let it be 72.65\n",
    "- Using an if statement:\n",
    "    - Check if the movie rating is 4 or greater and the popularity is greater than 80, print \"Highly recommended\".\n",
    "    - Else if the movie rating is 3 or greater and the popularity is greater than 70, print \"I recommended it, It is good\".\n",
    "    - Else if the movie rating is 2 or less and the popularity is greater than 60, print \"You should check it out!\".\n",
    "    - Else the movie rating is 2 or less and the popularity is less than 50, print \"Don't watch it, It is a waste of time\"."
   ]
  },
  {
   "cell_type": "code",
   "execution_count": 12,
   "metadata": {},
   "outputs": [
    {
     "name": "stdout",
     "output_type": "stream",
     "text": [
      "I recommended it, It is good\n"
     ]
    }
   ],
   "source": [
    "# write your code here ^_^\n",
    "movie =\"Batman\"\n",
    "rate = 3\n",
    "pop_score = 72.65\n",
    "\n",
    "if rate >= 4 and pop_score > 80:\n",
    "    print(\"Highly recommended\")\n",
    "elif rate >= 3 and pop_score > 70:\n",
    "    print(\"I recommended it, It is good\")\n",
    "elif rate <= 2 and pop_score > 60:\n",
    "    print(\"You should check it out!\")\n",
    "elif rate <= 2 and pop_score < 50:\n",
    "    print(\"Don't watch it, It is a waste of time\")"
   ]
  }
 ],
 "metadata": {
  "kernelspec": {
   "display_name": "Python 3",
   "language": "python",
   "name": "python3"
  },
  "language_info": {
   "codemirror_mode": {
    "name": "ipython",
    "version": 3
   },
   "file_extension": ".py",
   "mimetype": "text/x-python",
   "name": "python",
   "nbconvert_exporter": "python",
   "pygments_lexer": "ipython3",
   "version": "3.12.4"
  }
 },
 "nbformat": 4,
 "nbformat_minor": 2
}
